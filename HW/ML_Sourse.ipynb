{
 "cells": [
  {
   "cell_type": "code",
   "execution_count": null,
   "metadata": {},
   "outputs": [],
   "source": [
    "import numpy as np              # Одномерные и многомерные массивы (array)\n",
    "import pandas as pd             # Таблицы и временные ряды (dataframe, series)\n",
    "import matplotlib.pyplot as plt # Научная графика\n",
    "import seaborn as sns           # Еще больше красивой графики для визуализации данных"
   ]
  },
  {
   "cell_type": "code",
   "execution_count": 24,
   "metadata": {},
   "outputs": [
    {
     "name": "stdout",
     "output_type": "stream",
     "text": [
      "                                        <!DOCTYPE html>\n",
      "0     <html lang=\"en\" data-color-mode=\"auto\" data-li...\n",
      "1                                                <head>\n",
      "2                                <meta charset=\"utf-8\">\n",
      "3       <link rel=\"dns-prefetch\" href=\"https://githu...\n",
      "4       <link rel=\"dns-prefetch\" href=\"https://avata...\n",
      "...                                                 ...\n",
      "1103                                  </clipboard-copy>\n",
      "1104                                             </div>\n",
      "1105                                        </template>\n",
      "1106                                            </body>\n",
      "1107                                            </html>\n",
      "\n",
      "[1108 rows x 1 columns]\n"
     ]
    }
   ],
   "source": [
    "url = \"https://github.com/SHVlader/ML/blob/main/DB/star_classification.csv\"\n",
    "data_raw = pandas.read_csv((url), sep='\\t')\n",
    "print(data_raw)"
   ]
  }
 ],
 "metadata": {
  "kernelspec": {
   "display_name": "Python 3.10.4 64-bit",
   "language": "python",
   "name": "python3"
  },
  "language_info": {
   "codemirror_mode": {
    "name": "ipython",
    "version": 3
   },
   "file_extension": ".py",
   "mimetype": "text/x-python",
   "name": "python",
   "nbconvert_exporter": "python",
   "pygments_lexer": "ipython3",
   "version": "3.10.4"
  },
  "orig_nbformat": 4,
  "vscode": {
   "interpreter": {
    "hash": "4c44de9c2349fc1cd401fccfcca1da0f34515c1e6cd56281c485972c72f276fc"
   }
  }
 },
 "nbformat": 4,
 "nbformat_minor": 2
}
