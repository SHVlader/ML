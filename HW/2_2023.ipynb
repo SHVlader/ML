{
  "cells": [
    {
      "cell_type": "code",
      "execution_count": 1,
      "id": "ee5477ee-de3b-4563-9d02-3bf89befbaaf",
      "metadata": {
        "id": "ee5477ee-de3b-4563-9d02-3bf89befbaaf"
      },
      "outputs": [],
      "source": [
        "import numpy as np\n",
        "import matplotlib.pyplot as plt\n",
        "%matplotlib inline\n",
        "import pandas as pd\n",
        "import seaborn as sns\n",
        "import sklearn"
      ]
    },
    {
      "cell_type": "markdown",
      "id": "0b24eff6",
      "metadata": {
        "id": "0b24eff6"
      },
      "source": [
        "## 0. Описание задачи\n",
        "\n",
        " Определение диапозона цен машин при известных параметрах: бренда, модели, года выпуска, цвета и т.д."
      ]
    },
    {
      "cell_type": "markdown",
      "id": "27d5b6de",
      "metadata": {
        "id": "27d5b6de"
      },
      "source": [
        "## 1. Загрузка и чтение данных "
      ]
    },
    {
      "cell_type": "code",
      "execution_count": 2,
      "id": "fda84c54-3300-4bc3-bc46-256d77af2cbf",
      "metadata": {
        "colab": {
          "base_uri": "https://localhost:8080/"
        },
        "id": "fda84c54-3300-4bc3-bc46-256d77af2cbf",
        "outputId": "f4f2527e-c6d1-4f1a-cbff-34f62c3499af"
      },
      "outputs": [
        {
          "data": {
            "text/plain": [
              "(2499, 13)"
            ]
          },
          "execution_count": 2,
          "metadata": {},
          "output_type": "execute_result"
        }
      ],
      "source": [
        "url = \"https://raw.githubusercontent.com/SHVlader/ML/main/DB/USA_cars_datasets.csv\"\n",
        "data_raw = pd.read_csv(url)\n",
        "data = pd.read_csv(url)\n",
        "data_raw.shape"
      ]
    },
    {
      "cell_type": "markdown",
      "id": "bbe70b36",
      "metadata": {
        "id": "bbe70b36"
      },
      "source": [
        "Таблица содержит данные о 2499 брендах машин с описанием 13 параметров"
      ]
    },
    {
      "cell_type": "code",
      "execution_count": 3,
      "id": "bee799d1-8535-4c12-86d5-a4d752cd938e",
      "metadata": {
        "colab": {
          "base_uri": "https://localhost:8080/",
          "height": 0
        },
        "id": "bee799d1-8535-4c12-86d5-a4d752cd938e",
        "outputId": "5dd7c399-e4c6-4e8c-cbef-3bd456c555ec"
      },
      "outputs": [
        {
          "data": {
            "text/html": [
              "\n",
              "  <div id=\"df-4b0cd624-0a96-43df-bfcf-10e4a9e25568\">\n",
              "    <div class=\"colab-df-container\">\n",
              "      <div>\n",
              "<style scoped>\n",
              "    .dataframe tbody tr th:only-of-type {\n",
              "        vertical-align: middle;\n",
              "    }\n",
              "\n",
              "    .dataframe tbody tr th {\n",
              "        vertical-align: top;\n",
              "    }\n",
              "\n",
              "    .dataframe thead th {\n",
              "        text-align: right;\n",
              "    }\n",
              "</style>\n",
              "<table border=\"1\" class=\"dataframe\">\n",
              "  <thead>\n",
              "    <tr style=\"text-align: right;\">\n",
              "      <th></th>\n",
              "      <th>Unnamed: 0</th>\n",
              "      <th>price</th>\n",
              "      <th>brand</th>\n",
              "      <th>model</th>\n",
              "      <th>year</th>\n",
              "      <th>title_status</th>\n",
              "      <th>mileage</th>\n",
              "      <th>color</th>\n",
              "      <th>vin</th>\n",
              "      <th>lot</th>\n",
              "      <th>state</th>\n",
              "      <th>country</th>\n",
              "      <th>condition</th>\n",
              "    </tr>\n",
              "  </thead>\n",
              "  <tbody>\n",
              "    <tr>\n",
              "      <th>0</th>\n",
              "      <td>0</td>\n",
              "      <td>6300</td>\n",
              "      <td>toyota</td>\n",
              "      <td>cruiser</td>\n",
              "      <td>2008</td>\n",
              "      <td>clean vehicle</td>\n",
              "      <td>274117.0</td>\n",
              "      <td>black</td>\n",
              "      <td>jtezu11f88k007763</td>\n",
              "      <td>159348797</td>\n",
              "      <td>new jersey</td>\n",
              "      <td>usa</td>\n",
              "      <td>10 days left</td>\n",
              "    </tr>\n",
              "    <tr>\n",
              "      <th>1</th>\n",
              "      <td>1</td>\n",
              "      <td>2899</td>\n",
              "      <td>ford</td>\n",
              "      <td>se</td>\n",
              "      <td>2011</td>\n",
              "      <td>clean vehicle</td>\n",
              "      <td>190552.0</td>\n",
              "      <td>silver</td>\n",
              "      <td>2fmdk3gc4bbb02217</td>\n",
              "      <td>166951262</td>\n",
              "      <td>tennessee</td>\n",
              "      <td>usa</td>\n",
              "      <td>6 days left</td>\n",
              "    </tr>\n",
              "    <tr>\n",
              "      <th>2</th>\n",
              "      <td>2</td>\n",
              "      <td>5350</td>\n",
              "      <td>dodge</td>\n",
              "      <td>mpv</td>\n",
              "      <td>2018</td>\n",
              "      <td>clean vehicle</td>\n",
              "      <td>39590.0</td>\n",
              "      <td>silver</td>\n",
              "      <td>3c4pdcgg5jt346413</td>\n",
              "      <td>167655728</td>\n",
              "      <td>georgia</td>\n",
              "      <td>usa</td>\n",
              "      <td>2 days left</td>\n",
              "    </tr>\n",
              "    <tr>\n",
              "      <th>3</th>\n",
              "      <td>3</td>\n",
              "      <td>25000</td>\n",
              "      <td>ford</td>\n",
              "      <td>door</td>\n",
              "      <td>2014</td>\n",
              "      <td>clean vehicle</td>\n",
              "      <td>64146.0</td>\n",
              "      <td>blue</td>\n",
              "      <td>1ftfw1et4efc23745</td>\n",
              "      <td>167753855</td>\n",
              "      <td>virginia</td>\n",
              "      <td>usa</td>\n",
              "      <td>22 hours left</td>\n",
              "    </tr>\n",
              "    <tr>\n",
              "      <th>4</th>\n",
              "      <td>4</td>\n",
              "      <td>27700</td>\n",
              "      <td>chevrolet</td>\n",
              "      <td>1500</td>\n",
              "      <td>2018</td>\n",
              "      <td>clean vehicle</td>\n",
              "      <td>6654.0</td>\n",
              "      <td>red</td>\n",
              "      <td>3gcpcrec2jg473991</td>\n",
              "      <td>167763266</td>\n",
              "      <td>florida</td>\n",
              "      <td>usa</td>\n",
              "      <td>22 hours left</td>\n",
              "    </tr>\n",
              "  </tbody>\n",
              "</table>\n",
              "</div>\n",
              "      <button class=\"colab-df-convert\" onclick=\"convertToInteractive('df-4b0cd624-0a96-43df-bfcf-10e4a9e25568')\"\n",
              "              title=\"Convert this dataframe to an interactive table.\"\n",
              "              style=\"display:none;\">\n",
              "        \n",
              "  <svg xmlns=\"http://www.w3.org/2000/svg\" height=\"24px\"viewBox=\"0 0 24 24\"\n",
              "       width=\"24px\">\n",
              "    <path d=\"M0 0h24v24H0V0z\" fill=\"none\"/>\n",
              "    <path d=\"M18.56 5.44l.94 2.06.94-2.06 2.06-.94-2.06-.94-.94-2.06-.94 2.06-2.06.94zm-11 1L8.5 8.5l.94-2.06 2.06-.94-2.06-.94L8.5 2.5l-.94 2.06-2.06.94zm10 10l.94 2.06.94-2.06 2.06-.94-2.06-.94-.94-2.06-.94 2.06-2.06.94z\"/><path d=\"M17.41 7.96l-1.37-1.37c-.4-.4-.92-.59-1.43-.59-.52 0-1.04.2-1.43.59L10.3 9.45l-7.72 7.72c-.78.78-.78 2.05 0 2.83L4 21.41c.39.39.9.59 1.41.59.51 0 1.02-.2 1.41-.59l7.78-7.78 2.81-2.81c.8-.78.8-2.07 0-2.86zM5.41 20L4 18.59l7.72-7.72 1.47 1.35L5.41 20z\"/>\n",
              "  </svg>\n",
              "      </button>\n",
              "      \n",
              "  <style>\n",
              "    .colab-df-container {\n",
              "      display:flex;\n",
              "      flex-wrap:wrap;\n",
              "      gap: 12px;\n",
              "    }\n",
              "\n",
              "    .colab-df-convert {\n",
              "      background-color: #E8F0FE;\n",
              "      border: none;\n",
              "      border-radius: 50%;\n",
              "      cursor: pointer;\n",
              "      display: none;\n",
              "      fill: #1967D2;\n",
              "      height: 32px;\n",
              "      padding: 0 0 0 0;\n",
              "      width: 32px;\n",
              "    }\n",
              "\n",
              "    .colab-df-convert:hover {\n",
              "      background-color: #E2EBFA;\n",
              "      box-shadow: 0px 1px 2px rgba(60, 64, 67, 0.3), 0px 1px 3px 1px rgba(60, 64, 67, 0.15);\n",
              "      fill: #174EA6;\n",
              "    }\n",
              "\n",
              "    [theme=dark] .colab-df-convert {\n",
              "      background-color: #3B4455;\n",
              "      fill: #D2E3FC;\n",
              "    }\n",
              "\n",
              "    [theme=dark] .colab-df-convert:hover {\n",
              "      background-color: #434B5C;\n",
              "      box-shadow: 0px 1px 3px 1px rgba(0, 0, 0, 0.15);\n",
              "      filter: drop-shadow(0px 1px 2px rgba(0, 0, 0, 0.3));\n",
              "      fill: #FFFFFF;\n",
              "    }\n",
              "  </style>\n",
              "\n",
              "      <script>\n",
              "        const buttonEl =\n",
              "          document.querySelector('#df-4b0cd624-0a96-43df-bfcf-10e4a9e25568 button.colab-df-convert');\n",
              "        buttonEl.style.display =\n",
              "          google.colab.kernel.accessAllowed ? 'block' : 'none';\n",
              "\n",
              "        async function convertToInteractive(key) {\n",
              "          const element = document.querySelector('#df-4b0cd624-0a96-43df-bfcf-10e4a9e25568');\n",
              "          const dataTable =\n",
              "            await google.colab.kernel.invokeFunction('convertToInteractive',\n",
              "                                                     [key], {});\n",
              "          if (!dataTable) return;\n",
              "\n",
              "          const docLinkHtml = 'Like what you see? Visit the ' +\n",
              "            '<a target=\"_blank\" href=https://colab.research.google.com/notebooks/data_table.ipynb>data table notebook</a>'\n",
              "            + ' to learn more about interactive tables.';\n",
              "          element.innerHTML = '';\n",
              "          dataTable['output_type'] = 'display_data';\n",
              "          await google.colab.output.renderOutput(dataTable, element);\n",
              "          const docLink = document.createElement('div');\n",
              "          docLink.innerHTML = docLinkHtml;\n",
              "          element.appendChild(docLink);\n",
              "        }\n",
              "      </script>\n",
              "    </div>\n",
              "  </div>\n",
              "  "
            ],
            "text/plain": [
              "   Unnamed: 0  price      brand    model  year   title_status   mileage  \\\n",
              "0           0   6300     toyota  cruiser  2008  clean vehicle  274117.0   \n",
              "1           1   2899       ford       se  2011  clean vehicle  190552.0   \n",
              "2           2   5350      dodge      mpv  2018  clean vehicle   39590.0   \n",
              "3           3  25000       ford     door  2014  clean vehicle   64146.0   \n",
              "4           4  27700  chevrolet     1500  2018  clean vehicle    6654.0   \n",
              "\n",
              "    color                  vin        lot       state country      condition  \n",
              "0   black    jtezu11f88k007763  159348797  new jersey     usa   10 days left  \n",
              "1  silver    2fmdk3gc4bbb02217  166951262   tennessee     usa    6 days left  \n",
              "2  silver    3c4pdcgg5jt346413  167655728     georgia     usa    2 days left  \n",
              "3    blue    1ftfw1et4efc23745  167753855    virginia     usa  22 hours left  \n",
              "4     red    3gcpcrec2jg473991  167763266     florida     usa  22 hours left  "
            ]
          },
          "execution_count": 3,
          "metadata": {},
          "output_type": "execute_result"
        }
      ],
      "source": [
        "data_raw.head()"
      ]
    },
    {
      "cell_type": "markdown",
      "id": "ed966f26",
      "metadata": {
        "id": "ed966f26"
      },
      "source": [
        "Выведем все признаки из датасета"
      ]
    },
    {
      "cell_type": "code",
      "execution_count": 4,
      "id": "b74e5f5a",
      "metadata": {
        "colab": {
          "base_uri": "https://localhost:8080/"
        },
        "id": "b74e5f5a",
        "outputId": "1d05bb43-c6a0-4840-b975-4df1595de07d"
      },
      "outputs": [
        {
          "data": {
            "text/plain": [
              "Index(['Unnamed: 0', 'price', 'brand', 'model', 'year', 'title_status',\n",
              "       'mileage', 'color', 'vin', 'lot', 'state', 'country', 'condition'],\n",
              "      dtype='object')"
            ]
          },
          "execution_count": 4,
          "metadata": {},
          "output_type": "execute_result"
        }
      ],
      "source": [
        "data_raw.columns"
      ]
    },
    {
      "cell_type": "markdown",
      "id": "ec90b650",
      "metadata": {
        "id": "ec90b650"
      },
      "source": [
        "Удалим ненужные признаки"
      ]
    },
    {
      "cell_type": "code",
      "execution_count": 5,
      "id": "d9456493",
      "metadata": {
        "id": "d9456493"
      },
      "outputs": [],
      "source": [
        "data_raw.drop(['Unnamed: 0', 'vin', 'lot', 'condition'], axis=1, inplace = True)"
      ]
    },
    {
      "cell_type": "markdown",
      "id": "74024ecf",
      "metadata": {
        "id": "74024ecf"
      },
      "source": [
        "Признаки:\n",
        "    \n",
        "    1. Price - цена машин\n",
        "    2. Brand - бренд машины \n",
        "    3. Model - модель \n",
        "    4. Year - год выпуска\n",
        "    5. title_status - показывает статус машины (clean vehicle - нет случаев с авариями, salvage insurance - страхование от аварийного восстановления)\n",
        "    6. mileage - пробег\n",
        "    7. color - цвет машины \n",
        "    8. vin - это идентификационной номер автомобиля или другого транспортного средства, состоит из 17 символов\n",
        "    9. lot - это идентификационный номер, присвоенный определенному количеству или партии материала от одного производителя. \n",
        "    Для автомобилей номер партии объединяется с серийным номером для формирования идентификационного номера транспортного средства.\n",
        "    10. state - штат \n",
        "    11. country - страна\n",
        "    12. condition - статус \n"
      ]
    },
    {
      "cell_type": "markdown",
      "id": "bad75e8c",
      "metadata": {
        "id": "bad75e8c"
      },
      "source": [
        "Так как мы хотим определить цену, посмотрим на значения в этом столбце."
      ]
    },
    {
      "cell_type": "code",
      "execution_count": 6,
      "id": "ff9d4b78",
      "metadata": {
        "colab": {
          "base_uri": "https://localhost:8080/"
        },
        "id": "ff9d4b78",
        "outputId": "ee714e9c-ec27-4168-ee32-77243d1a07ad"
      },
      "outputs": [
        {
          "data": {
            "text/plain": [
              "0        6300\n",
              "1        2899\n",
              "2        5350\n",
              "3       25000\n",
              "4       27700\n",
              "        ...  \n",
              "2494     7800\n",
              "2495     9200\n",
              "2496     9200\n",
              "2497     9200\n",
              "2498     9200\n",
              "Name: price, Length: 2499, dtype: int64"
            ]
          },
          "execution_count": 6,
          "metadata": {},
          "output_type": "execute_result"
        }
      ],
      "source": [
        "data_raw['price']"
      ]
    },
    {
      "cell_type": "markdown",
      "id": "c6ece690",
      "metadata": {
        "id": "c6ece690"
      },
      "source": [
        "Создадим бинарный признак `'binary_price'`, чтобы разделить цену по диапозонам выше или ниже 42450."
      ]
    },
    {
      "cell_type": "code",
      "execution_count": 7,
      "id": "0088c5b8",
      "metadata": {
        "colab": {
          "base_uri": "https://localhost:8080/",
          "height": 0
        },
        "id": "0088c5b8",
        "outputId": "d0cc0ae2-ce85-46c9-9e0a-90ad91d81e01"
      },
      "outputs": [
        {
          "data": {
            "text/html": [
              "\n",
              "  <div id=\"df-5dd8c12d-f1a8-4271-9beb-aedf1632bd8d\">\n",
              "    <div class=\"colab-df-container\">\n",
              "      <div>\n",
              "<style scoped>\n",
              "    .dataframe tbody tr th:only-of-type {\n",
              "        vertical-align: middle;\n",
              "    }\n",
              "\n",
              "    .dataframe tbody tr th {\n",
              "        vertical-align: top;\n",
              "    }\n",
              "\n",
              "    .dataframe thead th {\n",
              "        text-align: right;\n",
              "    }\n",
              "</style>\n",
              "<table border=\"1\" class=\"dataframe\">\n",
              "  <thead>\n",
              "    <tr style=\"text-align: right;\">\n",
              "      <th></th>\n",
              "      <th>price</th>\n",
              "      <th>binary_price</th>\n",
              "    </tr>\n",
              "  </thead>\n",
              "  <tbody>\n",
              "    <tr>\n",
              "      <th>0</th>\n",
              "      <td>6300</td>\n",
              "      <td>0</td>\n",
              "    </tr>\n",
              "    <tr>\n",
              "      <th>1</th>\n",
              "      <td>2899</td>\n",
              "      <td>0</td>\n",
              "    </tr>\n",
              "    <tr>\n",
              "      <th>2</th>\n",
              "      <td>5350</td>\n",
              "      <td>0</td>\n",
              "    </tr>\n",
              "    <tr>\n",
              "      <th>3</th>\n",
              "      <td>25000</td>\n",
              "      <td>0</td>\n",
              "    </tr>\n",
              "    <tr>\n",
              "      <th>4</th>\n",
              "      <td>27700</td>\n",
              "      <td>0</td>\n",
              "    </tr>\n",
              "    <tr>\n",
              "      <th>...</th>\n",
              "      <td>...</td>\n",
              "      <td>...</td>\n",
              "    </tr>\n",
              "    <tr>\n",
              "      <th>2494</th>\n",
              "      <td>7800</td>\n",
              "      <td>0</td>\n",
              "    </tr>\n",
              "    <tr>\n",
              "      <th>2495</th>\n",
              "      <td>9200</td>\n",
              "      <td>0</td>\n",
              "    </tr>\n",
              "    <tr>\n",
              "      <th>2496</th>\n",
              "      <td>9200</td>\n",
              "      <td>0</td>\n",
              "    </tr>\n",
              "    <tr>\n",
              "      <th>2497</th>\n",
              "      <td>9200</td>\n",
              "      <td>0</td>\n",
              "    </tr>\n",
              "    <tr>\n",
              "      <th>2498</th>\n",
              "      <td>9200</td>\n",
              "      <td>0</td>\n",
              "    </tr>\n",
              "  </tbody>\n",
              "</table>\n",
              "<p>2499 rows × 2 columns</p>\n",
              "</div>\n",
              "      <button class=\"colab-df-convert\" onclick=\"convertToInteractive('df-5dd8c12d-f1a8-4271-9beb-aedf1632bd8d')\"\n",
              "              title=\"Convert this dataframe to an interactive table.\"\n",
              "              style=\"display:none;\">\n",
              "        \n",
              "  <svg xmlns=\"http://www.w3.org/2000/svg\" height=\"24px\"viewBox=\"0 0 24 24\"\n",
              "       width=\"24px\">\n",
              "    <path d=\"M0 0h24v24H0V0z\" fill=\"none\"/>\n",
              "    <path d=\"M18.56 5.44l.94 2.06.94-2.06 2.06-.94-2.06-.94-.94-2.06-.94 2.06-2.06.94zm-11 1L8.5 8.5l.94-2.06 2.06-.94-2.06-.94L8.5 2.5l-.94 2.06-2.06.94zm10 10l.94 2.06.94-2.06 2.06-.94-2.06-.94-.94-2.06-.94 2.06-2.06.94z\"/><path d=\"M17.41 7.96l-1.37-1.37c-.4-.4-.92-.59-1.43-.59-.52 0-1.04.2-1.43.59L10.3 9.45l-7.72 7.72c-.78.78-.78 2.05 0 2.83L4 21.41c.39.39.9.59 1.41.59.51 0 1.02-.2 1.41-.59l7.78-7.78 2.81-2.81c.8-.78.8-2.07 0-2.86zM5.41 20L4 18.59l7.72-7.72 1.47 1.35L5.41 20z\"/>\n",
              "  </svg>\n",
              "      </button>\n",
              "      \n",
              "  <style>\n",
              "    .colab-df-container {\n",
              "      display:flex;\n",
              "      flex-wrap:wrap;\n",
              "      gap: 12px;\n",
              "    }\n",
              "\n",
              "    .colab-df-convert {\n",
              "      background-color: #E8F0FE;\n",
              "      border: none;\n",
              "      border-radius: 50%;\n",
              "      cursor: pointer;\n",
              "      display: none;\n",
              "      fill: #1967D2;\n",
              "      height: 32px;\n",
              "      padding: 0 0 0 0;\n",
              "      width: 32px;\n",
              "    }\n",
              "\n",
              "    .colab-df-convert:hover {\n",
              "      background-color: #E2EBFA;\n",
              "      box-shadow: 0px 1px 2px rgba(60, 64, 67, 0.3), 0px 1px 3px 1px rgba(60, 64, 67, 0.15);\n",
              "      fill: #174EA6;\n",
              "    }\n",
              "\n",
              "    [theme=dark] .colab-df-convert {\n",
              "      background-color: #3B4455;\n",
              "      fill: #D2E3FC;\n",
              "    }\n",
              "\n",
              "    [theme=dark] .colab-df-convert:hover {\n",
              "      background-color: #434B5C;\n",
              "      box-shadow: 0px 1px 3px 1px rgba(0, 0, 0, 0.15);\n",
              "      filter: drop-shadow(0px 1px 2px rgba(0, 0, 0, 0.3));\n",
              "      fill: #FFFFFF;\n",
              "    }\n",
              "  </style>\n",
              "\n",
              "      <script>\n",
              "        const buttonEl =\n",
              "          document.querySelector('#df-5dd8c12d-f1a8-4271-9beb-aedf1632bd8d button.colab-df-convert');\n",
              "        buttonEl.style.display =\n",
              "          google.colab.kernel.accessAllowed ? 'block' : 'none';\n",
              "\n",
              "        async function convertToInteractive(key) {\n",
              "          const element = document.querySelector('#df-5dd8c12d-f1a8-4271-9beb-aedf1632bd8d');\n",
              "          const dataTable =\n",
              "            await google.colab.kernel.invokeFunction('convertToInteractive',\n",
              "                                                     [key], {});\n",
              "          if (!dataTable) return;\n",
              "\n",
              "          const docLinkHtml = 'Like what you see? Visit the ' +\n",
              "            '<a target=\"_blank\" href=https://colab.research.google.com/notebooks/data_table.ipynb>data table notebook</a>'\n",
              "            + ' to learn more about interactive tables.';\n",
              "          element.innerHTML = '';\n",
              "          dataTable['output_type'] = 'display_data';\n",
              "          await google.colab.output.renderOutput(dataTable, element);\n",
              "          const docLink = document.createElement('div');\n",
              "          docLink.innerHTML = docLinkHtml;\n",
              "          element.appendChild(docLink);\n",
              "        }\n",
              "      </script>\n",
              "    </div>\n",
              "  </div>\n",
              "  "
            ],
            "text/plain": [
              "      price  binary_price\n",
              "0      6300             0\n",
              "1      2899             0\n",
              "2      5350             0\n",
              "3     25000             0\n",
              "4     27700             0\n",
              "...     ...           ...\n",
              "2494   7800             0\n",
              "2495   9200             0\n",
              "2496   9200             0\n",
              "2497   9200             0\n",
              "2498   9200             0\n",
              "\n",
              "[2499 rows x 2 columns]"
            ]
          },
          "execution_count": 7,
          "metadata": {},
          "output_type": "execute_result"
        }
      ],
      "source": [
        "data_raw['binary_price'] = np.where(data_raw['price'] >= 42450, 1, 0)\n",
        "data_raw[['price', 'binary_price']]"
      ]
    },
    {
      "cell_type": "markdown",
      "id": "b90d0eae",
      "metadata": {
        "id": "b90d0eae"
      },
      "source": [
        "Столбцы `'brand'`, `'country'` и `'title_status'` содержат категориальные значения. Пока они имеют тип `'Object`'. Заменим тип на специальный, предназначенный для хранения категориальных значений:"
      ]
    },
    {
      "cell_type": "code",
      "execution_count": 8,
      "id": "198035f2",
      "metadata": {
        "colab": {
          "base_uri": "https://localhost:8080/"
        },
        "id": "198035f2",
        "outputId": "570060d6-d977-4c8a-974c-061ec7c81647"
      },
      "outputs": [
        {
          "data": {
            "text/plain": [
              "CategoricalDtype(categories=['acura', 'audi', 'bmw', 'buick', 'cadillac', 'chevrolet',\n",
              "                  'chrysler', 'dodge', 'ford', 'gmc', 'harley-davidson',\n",
              "                  'heartland', 'honda', 'hyundai', 'infiniti', 'jaguar',\n",
              "                  'jeep', 'kia', 'land', 'lexus', 'lincoln', 'maserati',\n",
              "                  'mazda', 'mercedes-benz', 'nissan', 'peterbilt', 'ram',\n",
              "                  'toyota'],\n",
              ", ordered=False)"
            ]
          },
          "execution_count": 8,
          "metadata": {},
          "output_type": "execute_result"
        }
      ],
      "source": [
        "data_raw['brand'] = data_raw['brand'].astype('category')\n",
        "data_raw['brand'].dtype"
      ]
    },
    {
      "cell_type": "code",
      "execution_count": 9,
      "id": "7b178d7e",
      "metadata": {
        "colab": {
          "base_uri": "https://localhost:8080/"
        },
        "id": "7b178d7e",
        "outputId": "d2570830-3317-42a1-9bfc-4d3553af8166"
      },
      "outputs": [
        {
          "data": {
            "text/plain": [
              "CategoricalDtype(categories=['clean vehicle', 'salvage insurance'], ordered=False)"
            ]
          },
          "execution_count": 9,
          "metadata": {},
          "output_type": "execute_result"
        }
      ],
      "source": [
        "data_raw['title_status'] = data_raw['title_status'].astype('category')\n",
        "data_raw['title_status'].dtype"
      ]
    },
    {
      "cell_type": "code",
      "execution_count": 10,
      "id": "67d3dbb3",
      "metadata": {
        "colab": {
          "base_uri": "https://localhost:8080/"
        },
        "id": "67d3dbb3",
        "outputId": "f672692c-ab9b-4ae4-f021-7f0dfd8529b4"
      },
      "outputs": [
        {
          "data": {
            "text/plain": [
              "CategoricalDtype(categories=[' canada', ' usa'], ordered=False)"
            ]
          },
          "execution_count": 10,
          "metadata": {},
          "output_type": "execute_result"
        }
      ],
      "source": [
        "data_raw['country'] = data_raw['country'].astype('category')\n",
        "data_raw['country'].dtype"
      ]
    },
    {
      "cell_type": "markdown",
      "id": "39fcbbc3",
      "metadata": {
        "id": "39fcbbc3"
      },
      "source": [
        "## 2. Визуализация и описательная статистика"
      ]
    },
    {
      "cell_type": "markdown",
      "id": "cfaa1758",
      "metadata": {
        "id": "cfaa1758"
      },
      "source": [
        "Получим информацию о признаках."
      ]
    },
    {
      "cell_type": "code",
      "execution_count": 11,
      "id": "c837a8d9-5e03-4243-a35d-635935f5f67c",
      "metadata": {
        "colab": {
          "base_uri": "https://localhost:8080/",
          "height": 0
        },
        "id": "c837a8d9-5e03-4243-a35d-635935f5f67c",
        "outputId": "b4e318cb-8fc1-40dc-bfd5-e0bec068bcb2",
        "scrolled": true
      },
      "outputs": [
        {
          "data": {
            "text/html": [
              "\n",
              "  <div id=\"df-8d205766-1da5-47ae-9b38-332b93d8ca29\">\n",
              "    <div class=\"colab-df-container\">\n",
              "      <div>\n",
              "<style scoped>\n",
              "    .dataframe tbody tr th:only-of-type {\n",
              "        vertical-align: middle;\n",
              "    }\n",
              "\n",
              "    .dataframe tbody tr th {\n",
              "        vertical-align: top;\n",
              "    }\n",
              "\n",
              "    .dataframe thead th {\n",
              "        text-align: right;\n",
              "    }\n",
              "</style>\n",
              "<table border=\"1\" class=\"dataframe\">\n",
              "  <thead>\n",
              "    <tr style=\"text-align: right;\">\n",
              "      <th></th>\n",
              "      <th>price</th>\n",
              "      <th>year</th>\n",
              "      <th>mileage</th>\n",
              "      <th>binary_price</th>\n",
              "    </tr>\n",
              "  </thead>\n",
              "  <tbody>\n",
              "    <tr>\n",
              "      <th>count</th>\n",
              "      <td>2499.000000</td>\n",
              "      <td>2499.000000</td>\n",
              "      <td>2.499000e+03</td>\n",
              "      <td>2499.000000</td>\n",
              "    </tr>\n",
              "    <tr>\n",
              "      <th>mean</th>\n",
              "      <td>18767.671469</td>\n",
              "      <td>2016.714286</td>\n",
              "      <td>5.229869e+04</td>\n",
              "      <td>0.049620</td>\n",
              "    </tr>\n",
              "    <tr>\n",
              "      <th>std</th>\n",
              "      <td>12116.094936</td>\n",
              "      <td>3.442656</td>\n",
              "      <td>5.970552e+04</td>\n",
              "      <td>0.217202</td>\n",
              "    </tr>\n",
              "    <tr>\n",
              "      <th>min</th>\n",
              "      <td>0.000000</td>\n",
              "      <td>1973.000000</td>\n",
              "      <td>0.000000e+00</td>\n",
              "      <td>0.000000</td>\n",
              "    </tr>\n",
              "    <tr>\n",
              "      <th>25%</th>\n",
              "      <td>10200.000000</td>\n",
              "      <td>2016.000000</td>\n",
              "      <td>2.146650e+04</td>\n",
              "      <td>0.000000</td>\n",
              "    </tr>\n",
              "    <tr>\n",
              "      <th>50%</th>\n",
              "      <td>16900.000000</td>\n",
              "      <td>2018.000000</td>\n",
              "      <td>3.536500e+04</td>\n",
              "      <td>0.000000</td>\n",
              "    </tr>\n",
              "    <tr>\n",
              "      <th>75%</th>\n",
              "      <td>25555.500000</td>\n",
              "      <td>2019.000000</td>\n",
              "      <td>6.347250e+04</td>\n",
              "      <td>0.000000</td>\n",
              "    </tr>\n",
              "    <tr>\n",
              "      <th>max</th>\n",
              "      <td>84900.000000</td>\n",
              "      <td>2020.000000</td>\n",
              "      <td>1.017936e+06</td>\n",
              "      <td>1.000000</td>\n",
              "    </tr>\n",
              "  </tbody>\n",
              "</table>\n",
              "</div>\n",
              "      <button class=\"colab-df-convert\" onclick=\"convertToInteractive('df-8d205766-1da5-47ae-9b38-332b93d8ca29')\"\n",
              "              title=\"Convert this dataframe to an interactive table.\"\n",
              "              style=\"display:none;\">\n",
              "        \n",
              "  <svg xmlns=\"http://www.w3.org/2000/svg\" height=\"24px\"viewBox=\"0 0 24 24\"\n",
              "       width=\"24px\">\n",
              "    <path d=\"M0 0h24v24H0V0z\" fill=\"none\"/>\n",
              "    <path d=\"M18.56 5.44l.94 2.06.94-2.06 2.06-.94-2.06-.94-.94-2.06-.94 2.06-2.06.94zm-11 1L8.5 8.5l.94-2.06 2.06-.94-2.06-.94L8.5 2.5l-.94 2.06-2.06.94zm10 10l.94 2.06.94-2.06 2.06-.94-2.06-.94-.94-2.06-.94 2.06-2.06.94z\"/><path d=\"M17.41 7.96l-1.37-1.37c-.4-.4-.92-.59-1.43-.59-.52 0-1.04.2-1.43.59L10.3 9.45l-7.72 7.72c-.78.78-.78 2.05 0 2.83L4 21.41c.39.39.9.59 1.41.59.51 0 1.02-.2 1.41-.59l7.78-7.78 2.81-2.81c.8-.78.8-2.07 0-2.86zM5.41 20L4 18.59l7.72-7.72 1.47 1.35L5.41 20z\"/>\n",
              "  </svg>\n",
              "      </button>\n",
              "      \n",
              "  <style>\n",
              "    .colab-df-container {\n",
              "      display:flex;\n",
              "      flex-wrap:wrap;\n",
              "      gap: 12px;\n",
              "    }\n",
              "\n",
              "    .colab-df-convert {\n",
              "      background-color: #E8F0FE;\n",
              "      border: none;\n",
              "      border-radius: 50%;\n",
              "      cursor: pointer;\n",
              "      display: none;\n",
              "      fill: #1967D2;\n",
              "      height: 32px;\n",
              "      padding: 0 0 0 0;\n",
              "      width: 32px;\n",
              "    }\n",
              "\n",
              "    .colab-df-convert:hover {\n",
              "      background-color: #E2EBFA;\n",
              "      box-shadow: 0px 1px 2px rgba(60, 64, 67, 0.3), 0px 1px 3px 1px rgba(60, 64, 67, 0.15);\n",
              "      fill: #174EA6;\n",
              "    }\n",
              "\n",
              "    [theme=dark] .colab-df-convert {\n",
              "      background-color: #3B4455;\n",
              "      fill: #D2E3FC;\n",
              "    }\n",
              "\n",
              "    [theme=dark] .colab-df-convert:hover {\n",
              "      background-color: #434B5C;\n",
              "      box-shadow: 0px 1px 3px 1px rgba(0, 0, 0, 0.15);\n",
              "      filter: drop-shadow(0px 1px 2px rgba(0, 0, 0, 0.3));\n",
              "      fill: #FFFFFF;\n",
              "    }\n",
              "  </style>\n",
              "\n",
              "      <script>\n",
              "        const buttonEl =\n",
              "          document.querySelector('#df-8d205766-1da5-47ae-9b38-332b93d8ca29 button.colab-df-convert');\n",
              "        buttonEl.style.display =\n",
              "          google.colab.kernel.accessAllowed ? 'block' : 'none';\n",
              "\n",
              "        async function convertToInteractive(key) {\n",
              "          const element = document.querySelector('#df-8d205766-1da5-47ae-9b38-332b93d8ca29');\n",
              "          const dataTable =\n",
              "            await google.colab.kernel.invokeFunction('convertToInteractive',\n",
              "                                                     [key], {});\n",
              "          if (!dataTable) return;\n",
              "\n",
              "          const docLinkHtml = 'Like what you see? Visit the ' +\n",
              "            '<a target=\"_blank\" href=https://colab.research.google.com/notebooks/data_table.ipynb>data table notebook</a>'\n",
              "            + ' to learn more about interactive tables.';\n",
              "          element.innerHTML = '';\n",
              "          dataTable['output_type'] = 'display_data';\n",
              "          await google.colab.output.renderOutput(dataTable, element);\n",
              "          const docLink = document.createElement('div');\n",
              "          docLink.innerHTML = docLinkHtml;\n",
              "          element.appendChild(docLink);\n",
              "        }\n",
              "      </script>\n",
              "    </div>\n",
              "  </div>\n",
              "  "
            ],
            "text/plain": [
              "              price         year       mileage  binary_price\n",
              "count   2499.000000  2499.000000  2.499000e+03   2499.000000\n",
              "mean   18767.671469  2016.714286  5.229869e+04      0.049620\n",
              "std    12116.094936     3.442656  5.970552e+04      0.217202\n",
              "min        0.000000  1973.000000  0.000000e+00      0.000000\n",
              "25%    10200.000000  2016.000000  2.146650e+04      0.000000\n",
              "50%    16900.000000  2018.000000  3.536500e+04      0.000000\n",
              "75%    25555.500000  2019.000000  6.347250e+04      0.000000\n",
              "max    84900.000000  2020.000000  1.017936e+06      1.000000"
            ]
          },
          "execution_count": 11,
          "metadata": {},
          "output_type": "execute_result"
        }
      ],
      "source": [
        "data_raw.describe()"
      ]
    },
    {
      "cell_type": "markdown",
      "id": "5f68eb0f",
      "metadata": {
        "id": "5f68eb0f"
      },
      "source": [
        "По умолчанию метод выше дает информацию только о количественных признаках.\n",
        "Получим информацию о категориальных:"
      ]
    },
    {
      "cell_type": "code",
      "execution_count": 12,
      "id": "b4c20a57",
      "metadata": {
        "colab": {
          "base_uri": "https://localhost:8080/",
          "height": 0
        },
        "id": "b4c20a57",
        "outputId": "41ab1ee1-d8f5-4e99-ce31-99e3fac703bc"
      },
      "outputs": [
        {
          "data": {
            "text/html": [
              "\n",
              "  <div id=\"df-584af6a8-4abd-478b-8a2f-92a21c480dfe\">\n",
              "    <div class=\"colab-df-container\">\n",
              "      <div>\n",
              "<style scoped>\n",
              "    .dataframe tbody tr th:only-of-type {\n",
              "        vertical-align: middle;\n",
              "    }\n",
              "\n",
              "    .dataframe tbody tr th {\n",
              "        vertical-align: top;\n",
              "    }\n",
              "\n",
              "    .dataframe thead th {\n",
              "        text-align: right;\n",
              "    }\n",
              "</style>\n",
              "<table border=\"1\" class=\"dataframe\">\n",
              "  <thead>\n",
              "    <tr style=\"text-align: right;\">\n",
              "      <th></th>\n",
              "      <th>brand</th>\n",
              "      <th>title_status</th>\n",
              "      <th>country</th>\n",
              "    </tr>\n",
              "  </thead>\n",
              "  <tbody>\n",
              "    <tr>\n",
              "      <th>count</th>\n",
              "      <td>2499</td>\n",
              "      <td>2499</td>\n",
              "      <td>2499</td>\n",
              "    </tr>\n",
              "    <tr>\n",
              "      <th>unique</th>\n",
              "      <td>28</td>\n",
              "      <td>2</td>\n",
              "      <td>2</td>\n",
              "    </tr>\n",
              "    <tr>\n",
              "      <th>top</th>\n",
              "      <td>ford</td>\n",
              "      <td>clean vehicle</td>\n",
              "      <td>usa</td>\n",
              "    </tr>\n",
              "    <tr>\n",
              "      <th>freq</th>\n",
              "      <td>1235</td>\n",
              "      <td>2336</td>\n",
              "      <td>2492</td>\n",
              "    </tr>\n",
              "  </tbody>\n",
              "</table>\n",
              "</div>\n",
              "      <button class=\"colab-df-convert\" onclick=\"convertToInteractive('df-584af6a8-4abd-478b-8a2f-92a21c480dfe')\"\n",
              "              title=\"Convert this dataframe to an interactive table.\"\n",
              "              style=\"display:none;\">\n",
              "        \n",
              "  <svg xmlns=\"http://www.w3.org/2000/svg\" height=\"24px\"viewBox=\"0 0 24 24\"\n",
              "       width=\"24px\">\n",
              "    <path d=\"M0 0h24v24H0V0z\" fill=\"none\"/>\n",
              "    <path d=\"M18.56 5.44l.94 2.06.94-2.06 2.06-.94-2.06-.94-.94-2.06-.94 2.06-2.06.94zm-11 1L8.5 8.5l.94-2.06 2.06-.94-2.06-.94L8.5 2.5l-.94 2.06-2.06.94zm10 10l.94 2.06.94-2.06 2.06-.94-2.06-.94-.94-2.06-.94 2.06-2.06.94z\"/><path d=\"M17.41 7.96l-1.37-1.37c-.4-.4-.92-.59-1.43-.59-.52 0-1.04.2-1.43.59L10.3 9.45l-7.72 7.72c-.78.78-.78 2.05 0 2.83L4 21.41c.39.39.9.59 1.41.59.51 0 1.02-.2 1.41-.59l7.78-7.78 2.81-2.81c.8-.78.8-2.07 0-2.86zM5.41 20L4 18.59l7.72-7.72 1.47 1.35L5.41 20z\"/>\n",
              "  </svg>\n",
              "      </button>\n",
              "      \n",
              "  <style>\n",
              "    .colab-df-container {\n",
              "      display:flex;\n",
              "      flex-wrap:wrap;\n",
              "      gap: 12px;\n",
              "    }\n",
              "\n",
              "    .colab-df-convert {\n",
              "      background-color: #E8F0FE;\n",
              "      border: none;\n",
              "      border-radius: 50%;\n",
              "      cursor: pointer;\n",
              "      display: none;\n",
              "      fill: #1967D2;\n",
              "      height: 32px;\n",
              "      padding: 0 0 0 0;\n",
              "      width: 32px;\n",
              "    }\n",
              "\n",
              "    .colab-df-convert:hover {\n",
              "      background-color: #E2EBFA;\n",
              "      box-shadow: 0px 1px 2px rgba(60, 64, 67, 0.3), 0px 1px 3px 1px rgba(60, 64, 67, 0.15);\n",
              "      fill: #174EA6;\n",
              "    }\n",
              "\n",
              "    [theme=dark] .colab-df-convert {\n",
              "      background-color: #3B4455;\n",
              "      fill: #D2E3FC;\n",
              "    }\n",
              "\n",
              "    [theme=dark] .colab-df-convert:hover {\n",
              "      background-color: #434B5C;\n",
              "      box-shadow: 0px 1px 3px 1px rgba(0, 0, 0, 0.15);\n",
              "      filter: drop-shadow(0px 1px 2px rgba(0, 0, 0, 0.3));\n",
              "      fill: #FFFFFF;\n",
              "    }\n",
              "  </style>\n",
              "\n",
              "      <script>\n",
              "        const buttonEl =\n",
              "          document.querySelector('#df-584af6a8-4abd-478b-8a2f-92a21c480dfe button.colab-df-convert');\n",
              "        buttonEl.style.display =\n",
              "          google.colab.kernel.accessAllowed ? 'block' : 'none';\n",
              "\n",
              "        async function convertToInteractive(key) {\n",
              "          const element = document.querySelector('#df-584af6a8-4abd-478b-8a2f-92a21c480dfe');\n",
              "          const dataTable =\n",
              "            await google.colab.kernel.invokeFunction('convertToInteractive',\n",
              "                                                     [key], {});\n",
              "          if (!dataTable) return;\n",
              "\n",
              "          const docLinkHtml = 'Like what you see? Visit the ' +\n",
              "            '<a target=\"_blank\" href=https://colab.research.google.com/notebooks/data_table.ipynb>data table notebook</a>'\n",
              "            + ' to learn more about interactive tables.';\n",
              "          element.innerHTML = '';\n",
              "          dataTable['output_type'] = 'display_data';\n",
              "          await google.colab.output.renderOutput(dataTable, element);\n",
              "          const docLink = document.createElement('div');\n",
              "          docLink.innerHTML = docLinkHtml;\n",
              "          element.appendChild(docLink);\n",
              "        }\n",
              "      </script>\n",
              "    </div>\n",
              "  </div>\n",
              "  "
            ],
            "text/plain": [
              "       brand   title_status country\n",
              "count   2499           2499    2499\n",
              "unique    28              2       2\n",
              "top     ford  clean vehicle     usa\n",
              "freq    1235           2336    2492"
            ]
          },
          "execution_count": 12,
          "metadata": {},
          "output_type": "execute_result"
        }
      ],
      "source": [
        "data_raw.describe(include=['category'])"
      ]
    },
    {
      "cell_type": "markdown",
      "id": "e92ac248",
      "metadata": {
        "id": "e92ac248"
      },
      "source": [
        "Вычислим матрицу корреляции для количественных признаков и визуализируем её образ."
      ]
    },
    {
      "cell_type": "code",
      "execution_count": 13,
      "id": "494203fc-5de7-4f25-b7a8-5b87e0827691",
      "metadata": {
        "colab": {
          "base_uri": "https://localhost:8080/",
          "height": 0
        },
        "id": "494203fc-5de7-4f25-b7a8-5b87e0827691",
        "outputId": "9094275c-c73c-4d4a-bedd-7ff5ac67aec9"
      },
      "outputs": [
        {
          "data": {
            "text/html": [
              "\n",
              "  <div id=\"df-c116a8d8-d269-4389-86d0-73e32602f45d\">\n",
              "    <div class=\"colab-df-container\">\n",
              "      <div>\n",
              "<style scoped>\n",
              "    .dataframe tbody tr th:only-of-type {\n",
              "        vertical-align: middle;\n",
              "    }\n",
              "\n",
              "    .dataframe tbody tr th {\n",
              "        vertical-align: top;\n",
              "    }\n",
              "\n",
              "    .dataframe thead th {\n",
              "        text-align: right;\n",
              "    }\n",
              "</style>\n",
              "<table border=\"1\" class=\"dataframe\">\n",
              "  <thead>\n",
              "    <tr style=\"text-align: right;\">\n",
              "      <th></th>\n",
              "      <th>price</th>\n",
              "      <th>year</th>\n",
              "      <th>mileage</th>\n",
              "      <th>binary_price</th>\n",
              "    </tr>\n",
              "  </thead>\n",
              "  <tbody>\n",
              "    <tr>\n",
              "      <th>price</th>\n",
              "      <td>1.000000</td>\n",
              "      <td>0.418274</td>\n",
              "      <td>-0.400838</td>\n",
              "      <td>0.604254</td>\n",
              "    </tr>\n",
              "    <tr>\n",
              "      <th>year</th>\n",
              "      <td>0.418274</td>\n",
              "      <td>1.000000</td>\n",
              "      <td>-0.594686</td>\n",
              "      <td>0.101949</td>\n",
              "    </tr>\n",
              "    <tr>\n",
              "      <th>mileage</th>\n",
              "      <td>-0.400838</td>\n",
              "      <td>-0.594686</td>\n",
              "      <td>1.000000</td>\n",
              "      <td>-0.103166</td>\n",
              "    </tr>\n",
              "    <tr>\n",
              "      <th>binary_price</th>\n",
              "      <td>0.604254</td>\n",
              "      <td>0.101949</td>\n",
              "      <td>-0.103166</td>\n",
              "      <td>1.000000</td>\n",
              "    </tr>\n",
              "  </tbody>\n",
              "</table>\n",
              "</div>\n",
              "      <button class=\"colab-df-convert\" onclick=\"convertToInteractive('df-c116a8d8-d269-4389-86d0-73e32602f45d')\"\n",
              "              title=\"Convert this dataframe to an interactive table.\"\n",
              "              style=\"display:none;\">\n",
              "        \n",
              "  <svg xmlns=\"http://www.w3.org/2000/svg\" height=\"24px\"viewBox=\"0 0 24 24\"\n",
              "       width=\"24px\">\n",
              "    <path d=\"M0 0h24v24H0V0z\" fill=\"none\"/>\n",
              "    <path d=\"M18.56 5.44l.94 2.06.94-2.06 2.06-.94-2.06-.94-.94-2.06-.94 2.06-2.06.94zm-11 1L8.5 8.5l.94-2.06 2.06-.94-2.06-.94L8.5 2.5l-.94 2.06-2.06.94zm10 10l.94 2.06.94-2.06 2.06-.94-2.06-.94-.94-2.06-.94 2.06-2.06.94z\"/><path d=\"M17.41 7.96l-1.37-1.37c-.4-.4-.92-.59-1.43-.59-.52 0-1.04.2-1.43.59L10.3 9.45l-7.72 7.72c-.78.78-.78 2.05 0 2.83L4 21.41c.39.39.9.59 1.41.59.51 0 1.02-.2 1.41-.59l7.78-7.78 2.81-2.81c.8-.78.8-2.07 0-2.86zM5.41 20L4 18.59l7.72-7.72 1.47 1.35L5.41 20z\"/>\n",
              "  </svg>\n",
              "      </button>\n",
              "      \n",
              "  <style>\n",
              "    .colab-df-container {\n",
              "      display:flex;\n",
              "      flex-wrap:wrap;\n",
              "      gap: 12px;\n",
              "    }\n",
              "\n",
              "    .colab-df-convert {\n",
              "      background-color: #E8F0FE;\n",
              "      border: none;\n",
              "      border-radius: 50%;\n",
              "      cursor: pointer;\n",
              "      display: none;\n",
              "      fill: #1967D2;\n",
              "      height: 32px;\n",
              "      padding: 0 0 0 0;\n",
              "      width: 32px;\n",
              "    }\n",
              "\n",
              "    .colab-df-convert:hover {\n",
              "      background-color: #E2EBFA;\n",
              "      box-shadow: 0px 1px 2px rgba(60, 64, 67, 0.3), 0px 1px 3px 1px rgba(60, 64, 67, 0.15);\n",
              "      fill: #174EA6;\n",
              "    }\n",
              "\n",
              "    [theme=dark] .colab-df-convert {\n",
              "      background-color: #3B4455;\n",
              "      fill: #D2E3FC;\n",
              "    }\n",
              "\n",
              "    [theme=dark] .colab-df-convert:hover {\n",
              "      background-color: #434B5C;\n",
              "      box-shadow: 0px 1px 3px 1px rgba(0, 0, 0, 0.15);\n",
              "      filter: drop-shadow(0px 1px 2px rgba(0, 0, 0, 0.3));\n",
              "      fill: #FFFFFF;\n",
              "    }\n",
              "  </style>\n",
              "\n",
              "      <script>\n",
              "        const buttonEl =\n",
              "          document.querySelector('#df-c116a8d8-d269-4389-86d0-73e32602f45d button.colab-df-convert');\n",
              "        buttonEl.style.display =\n",
              "          google.colab.kernel.accessAllowed ? 'block' : 'none';\n",
              "\n",
              "        async function convertToInteractive(key) {\n",
              "          const element = document.querySelector('#df-c116a8d8-d269-4389-86d0-73e32602f45d');\n",
              "          const dataTable =\n",
              "            await google.colab.kernel.invokeFunction('convertToInteractive',\n",
              "                                                     [key], {});\n",
              "          if (!dataTable) return;\n",
              "\n",
              "          const docLinkHtml = 'Like what you see? Visit the ' +\n",
              "            '<a target=\"_blank\" href=https://colab.research.google.com/notebooks/data_table.ipynb>data table notebook</a>'\n",
              "            + ' to learn more about interactive tables.';\n",
              "          element.innerHTML = '';\n",
              "          dataTable['output_type'] = 'display_data';\n",
              "          await google.colab.output.renderOutput(dataTable, element);\n",
              "          const docLink = document.createElement('div');\n",
              "          docLink.innerHTML = docLinkHtml;\n",
              "          element.appendChild(docLink);\n",
              "        }\n",
              "      </script>\n",
              "    </div>\n",
              "  </div>\n",
              "  "
            ],
            "text/plain": [
              "                 price      year   mileage  binary_price\n",
              "price         1.000000  0.418274 -0.400838      0.604254\n",
              "year          0.418274  1.000000 -0.594686      0.101949\n",
              "mileage      -0.400838 -0.594686  1.000000     -0.103166\n",
              "binary_price  0.604254  0.101949 -0.103166      1.000000"
            ]
          },
          "execution_count": 13,
          "metadata": {},
          "output_type": "execute_result"
        }
      ],
      "source": [
        "corr_mat = data_raw.corr()\n",
        "corr_mat"
      ]
    },
    {
      "cell_type": "code",
      "execution_count": 14,
      "id": "6bb6d376-41d7-41bb-ab0f-eb081d74748a",
      "metadata": {
        "colab": {
          "base_uri": "https://localhost:8080/",
          "height": 0
        },
        "id": "6bb6d376-41d7-41bb-ab0f-eb081d74748a",
        "outputId": "479c6d84-54c7-487e-d3ef-4ffe32f7185c",
        "scrolled": false
      },
      "outputs": [
        {
          "data": {
            "image/png": "[encoded data removed]",
            "text/plain": [
              "<Figure size 432x288 with 2 Axes>"
            ]
          },
          "metadata": {
            "needs_background": "light"
          },
          "output_type": "display_data"
        }
      ],
      "source": [
        "sns.heatmap(corr_mat, square=True, vmin=-1, vmax=1, cmap='coolwarm')\n",
        "pass"
      ]
    },
    {
      "cell_type": "markdown",
      "id": "f6d9d6f8",
      "metadata": {
        "id": "f6d9d6f8"
      },
      "source": [
        "Построим всевозможные диаграммы рассеивания для каждой пары переменных:"
      ]
    },
    {
      "cell_type": "code",
      "execution_count": 15,
      "id": "f1a9e652",
      "metadata": {
        "colab": {
          "base_uri": "https://localhost:8080/",
          "height": 0
        },
        "id": "f1a9e652",
        "outputId": "8e1f3636-9e40-454d-c6dc-f9c8011f5f99"
      },
      "outputs": [
        {
          "name": "stderr",
          "output_type": "stream",
          "text": [
            "WARNING:matplotlib.legend:No handles with labels found to put in legend.\n"
          ]
        },
        {
          "data": {
            "image/png": "[encoded data removed]",
            "text/plain": [
              "<Figure size 609.5x540 with 12 Axes>"
            ]
          },
          "metadata": {
            "needs_background": "light"
          },
          "output_type": "display_data"
        }
      ],
      "source": [
        "np.random.seed(42)\n",
        "random_subset = np.random.choice(np.arange(data_raw.shape[0]), size=1000, replace=False)\n",
        "sns.pairplot(data_raw.iloc[random_subset], hue='binary_price', diag_kind='hist')\n",
        "plt.legend()\n",
        "pass"
      ]
    },
    {
      "cell_type": "markdown",
      "id": "fcbe3b12",
      "metadata": {
        "id": "fcbe3b12"
      },
      "source": [
        "##  3. Заполнение пропущенных значений "
      ]
    },
    {
      "cell_type": "markdown",
      "id": "9ede765f",
      "metadata": {
        "id": "9ede765f"
      },
      "source": [
        "Проверим, сколько пропущенных значений в каждом столбце матрицы:"
      ]
    },
    {
      "cell_type": "code",
      "execution_count": 16,
      "id": "311efabe",
      "metadata": {
        "colab": {
          "base_uri": "https://localhost:8080/"
        },
        "id": "311efabe",
        "outputId": "5e03a5fa-d060-436a-8323-98b07ea8bba8"
      },
      "outputs": [
        {
          "data": {
            "text/plain": [
              "price           0\n",
              "brand           0\n",
              "model           0\n",
              "year            0\n",
              "title_status    0\n",
              "mileage         0\n",
              "color           0\n",
              "state           0\n",
              "country         0\n",
              "binary_price    0\n",
              "dtype: int64"
            ]
          },
          "execution_count": 16,
          "metadata": {},
          "output_type": "execute_result"
        }
      ],
      "source": [
        "data_raw.isna().sum()  "
      ]
    },
    {
      "cell_type": "markdown",
      "id": "e3e305cf",
      "metadata": {
        "id": "e3e305cf"
      },
      "source": [
        "## 4. Бинаризация номинальных признаков"
      ]
    },
    {
      "cell_type": "markdown",
      "id": "7084c3d9",
      "metadata": {
        "id": "7084c3d9"
      },
      "source": [
        "Алгоритмы из библиотеки scikit-learn (почти) не умеют работать напрямую с категориальными признаками. Поэтому их вначале надо закодировать с помощью числовых принаков. Скопируем нужные признаки в новую таблицу."
      ]
    },
    {
      "cell_type": "code",
      "execution_count": 17,
      "id": "83206e36",
      "metadata": {
        "id": "83206e36"
      },
      "outputs": [],
      "source": [
        "data_new = data_raw.loc[:, ['price', 'brand', 'model', 'year', 'title_status', \n",
        "                        'mileage', 'color', 'country', \n",
        "                        'binary_price']].copy()"
      ]
    },
    {
      "cell_type": "markdown",
      "id": "3bb119d4",
      "metadata": {
        "id": "3bb119d4"
      },
      "source": [
        "Бинарные признаки `'color'` и `'country'` заменим на числовые."
      ]
    },
    {
      "cell_type": "code",
      "execution_count": 18,
      "id": "3be0c460",
      "metadata": {
        "id": "3be0c460"
      },
      "outputs": [],
      "source": [
        "data_new['color'] = pd.factorize(data_new['color'])[0]\n",
        "data_new['country'] = pd.factorize(data_new['country'])[0]"
      ]
    },
    {
      "cell_type": "markdown",
      "id": "14f4329c",
      "metadata": {
        "id": "14f4329c"
      },
      "source": [
        "К небинарномым признакам `'title_status'`, `'model'` и `'brand'` применим метод бинаризации с помощью функции `get_dummies`:"
      ]
    },
    {
      "cell_type": "code",
      "execution_count": 19,
      "id": "e62ea44f",
      "metadata": {
        "colab": {
          "base_uri": "https://localhost:8080/",
          "height": 0
        },
        "id": "e62ea44f",
        "outputId": "13d174dd-ef60-4ee9-cf71-6630a8b28f24"
      },
      "outputs": [
        {
          "data": {
            "text/html": [
              "\n",
              "  <div id=\"df-7e59be4e-8328-4d91-9758-2251085d0c0a\">\n",
              "    <div class=\"colab-df-container\">\n",
              "      <div>\n",
              "<style scoped>\n",
              "    .dataframe tbody tr th:only-of-type {\n",
              "        vertical-align: middle;\n",
              "    }\n",
              "\n",
              "    .dataframe tbody tr th {\n",
              "        vertical-align: top;\n",
              "    }\n",
              "\n",
              "    .dataframe thead th {\n",
              "        text-align: right;\n",
              "    }\n",
              "</style>\n",
              "<table border=\"1\" class=\"dataframe\">\n",
              "  <thead>\n",
              "    <tr style=\"text-align: right;\">\n",
              "      <th></th>\n",
              "      <th>clean vehicle</th>\n",
              "      <th>salvage insurance</th>\n",
              "    </tr>\n",
              "  </thead>\n",
              "  <tbody>\n",
              "    <tr>\n",
              "      <th>0</th>\n",
              "      <td>1</td>\n",
              "      <td>0</td>\n",
              "    </tr>\n",
              "    <tr>\n",
              "      <th>1</th>\n",
              "      <td>1</td>\n",
              "      <td>0</td>\n",
              "    </tr>\n",
              "    <tr>\n",
              "      <th>2</th>\n",
              "      <td>1</td>\n",
              "      <td>0</td>\n",
              "    </tr>\n",
              "    <tr>\n",
              "      <th>3</th>\n",
              "      <td>1</td>\n",
              "      <td>0</td>\n",
              "    </tr>\n",
              "    <tr>\n",
              "      <th>4</th>\n",
              "      <td>1</td>\n",
              "      <td>0</td>\n",
              "    </tr>\n",
              "    <tr>\n",
              "      <th>5</th>\n",
              "      <td>1</td>\n",
              "      <td>0</td>\n",
              "    </tr>\n",
              "    <tr>\n",
              "      <th>6</th>\n",
              "      <td>1</td>\n",
              "      <td>0</td>\n",
              "    </tr>\n",
              "  </tbody>\n",
              "</table>\n",
              "</div>\n",
              "      <button class=\"colab-df-convert\" onclick=\"convertToInteractive('df-7e59be4e-8328-4d91-9758-2251085d0c0a')\"\n",
              "              title=\"Convert this dataframe to an interactive table.\"\n",
              "              style=\"display:none;\">\n",
              "        \n",
              "  <svg xmlns=\"http://www.w3.org/2000/svg\" height=\"24px\"viewBox=\"0 0 24 24\"\n",
              "       width=\"24px\">\n",
              "    <path d=\"M0 0h24v24H0V0z\" fill=\"none\"/>\n",
              "    <path d=\"M18.56 5.44l.94 2.06.94-2.06 2.06-.94-2.06-.94-.94-2.06-.94 2.06-2.06.94zm-11 1L8.5 8.5l.94-2.06 2.06-.94-2.06-.94L8.5 2.5l-.94 2.06-2.06.94zm10 10l.94 2.06.94-2.06 2.06-.94-2.06-.94-.94-2.06-.94 2.06-2.06.94z\"/><path d=\"M17.41 7.96l-1.37-1.37c-.4-.4-.92-.59-1.43-.59-.52 0-1.04.2-1.43.59L10.3 9.45l-7.72 7.72c-.78.78-.78 2.05 0 2.83L4 21.41c.39.39.9.59 1.41.59.51 0 1.02-.2 1.41-.59l7.78-7.78 2.81-2.81c.8-.78.8-2.07 0-2.86zM5.41 20L4 18.59l7.72-7.72 1.47 1.35L5.41 20z\"/>\n",
              "  </svg>\n",
              "      </button>\n",
              "      \n",
              "  <style>\n",
              "    .colab-df-container {\n",
              "      display:flex;\n",
              "      flex-wrap:wrap;\n",
              "      gap: 12px;\n",
              "    }\n",
              "\n",
              "    .colab-df-convert {\n",
              "      background-color: #E8F0FE;\n",
              "      border: none;\n",
              "      border-radius: 50%;\n",
              "      cursor: pointer;\n",
              "      display: none;\n",
              "      fill: #1967D2;\n",
              "      height: 32px;\n",
              "      padding: 0 0 0 0;\n",
              "      width: 32px;\n",
              "    }\n",
              "\n",
              "    .colab-df-convert:hover {\n",
              "      background-color: #E2EBFA;\n",
              "      box-shadow: 0px 1px 2px rgba(60, 64, 67, 0.3), 0px 1px 3px 1px rgba(60, 64, 67, 0.15);\n",
              "      fill: #174EA6;\n",
              "    }\n",
              "\n",
              "    [theme=dark] .colab-df-convert {\n",
              "      background-color: #3B4455;\n",
              "      fill: #D2E3FC;\n",
              "    }\n",
              "\n",
              "    [theme=dark] .colab-df-convert:hover {\n",
              "      background-color: #434B5C;\n",
              "      box-shadow: 0px 1px 3px 1px rgba(0, 0, 0, 0.15);\n",
              "      filter: drop-shadow(0px 1px 2px rgba(0, 0, 0, 0.3));\n",
              "      fill: #FFFFFF;\n",
              "    }\n",
              "  </style>\n",
              "\n",
              "      <script>\n",
              "        const buttonEl =\n",
              "          document.querySelector('#df-7e59be4e-8328-4d91-9758-2251085d0c0a button.colab-df-convert');\n",
              "        buttonEl.style.display =\n",
              "          google.colab.kernel.accessAllowed ? 'block' : 'none';\n",
              "\n",
              "        async function convertToInteractive(key) {\n",
              "          const element = document.querySelector('#df-7e59be4e-8328-4d91-9758-2251085d0c0a');\n",
              "          const dataTable =\n",
              "            await google.colab.kernel.invokeFunction('convertToInteractive',\n",
              "                                                     [key], {});\n",
              "          if (!dataTable) return;\n",
              "\n",
              "          const docLinkHtml = 'Like what you see? Visit the ' +\n",
              "            '<a target=\"_blank\" href=https://colab.research.google.com/notebooks/data_table.ipynb>data table notebook</a>'\n",
              "            + ' to learn more about interactive tables.';\n",
              "          element.innerHTML = '';\n",
              "          dataTable['output_type'] = 'display_data';\n",
              "          await google.colab.output.renderOutput(dataTable, element);\n",
              "          const docLink = document.createElement('div');\n",
              "          docLink.innerHTML = docLinkHtml;\n",
              "          element.appendChild(docLink);\n",
              "        }\n",
              "      </script>\n",
              "    </div>\n",
              "  </div>\n",
              "  "
            ],
            "text/plain": [
              "   clean vehicle  salvage insurance\n",
              "0              1                  0\n",
              "1              1                  0\n",
              "2              1                  0\n",
              "3              1                  0\n",
              "4              1                  0\n",
              "5              1                  0\n",
              "6              1                  0"
            ]
          },
          "execution_count": 19,
          "metadata": {},
          "output_type": "execute_result"
        }
      ],
      "source": [
        "Title_Status_dummies = pd.get_dummies(data['title_status'])\n",
        "Title_Status_dummies.head(7)"
      ]
    },
    {
      "cell_type": "code",
      "execution_count": 20,
      "id": "be1a14bd",
      "metadata": {
        "colab": {
          "base_uri": "https://localhost:8080/",
          "height": 0
        },
        "id": "be1a14bd",
        "outputId": "ce861f31-1c84-42f4-eca7-99a7e7f1e3d7"
      },
      "outputs": [
        {
          "data": {
            "text/html": [
              "\n",
              "  <div id=\"df-ef3dcd23-0185-44d8-9a28-084f8f17341a\">\n",
              "    <div class=\"colab-df-container\">\n",
              "      <div>\n",
              "<style scoped>\n",
              "    .dataframe tbody tr th:only-of-type {\n",
              "        vertical-align: middle;\n",
              "    }\n",
              "\n",
              "    .dataframe tbody tr th {\n",
              "        vertical-align: top;\n",
              "    }\n",
              "\n",
              "    .dataframe thead th {\n",
              "        text-align: right;\n",
              "    }\n",
              "</style>\n",
              "<table border=\"1\" class=\"dataframe\">\n",
              "  <thead>\n",
              "    <tr style=\"text-align: right;\">\n",
              "      <th></th>\n",
              "      <th>1500</th>\n",
              "      <th>2500</th>\n",
              "      <th>2500hd</th>\n",
              "      <th>300</th>\n",
              "      <th>3500</th>\n",
              "      <th>5</th>\n",
              "      <th>acadia</th>\n",
              "      <th>altima</th>\n",
              "      <th>armada</th>\n",
              "      <th>bus</th>\n",
              "      <th>...</th>\n",
              "      <th>van</th>\n",
              "      <th>vans</th>\n",
              "      <th>vehicl</th>\n",
              "      <th>versa</th>\n",
              "      <th>volt</th>\n",
              "      <th>wagon</th>\n",
              "      <th>x3</th>\n",
              "      <th>xd</th>\n",
              "      <th>xt5</th>\n",
              "      <th>xterra</th>\n",
              "    </tr>\n",
              "  </thead>\n",
              "  <tbody>\n",
              "    <tr>\n",
              "      <th>0</th>\n",
              "      <td>0</td>\n",
              "      <td>0</td>\n",
              "      <td>0</td>\n",
              "      <td>0</td>\n",
              "      <td>0</td>\n",
              "      <td>0</td>\n",
              "      <td>0</td>\n",
              "      <td>0</td>\n",
              "      <td>0</td>\n",
              "      <td>0</td>\n",
              "      <td>...</td>\n",
              "      <td>0</td>\n",
              "      <td>0</td>\n",
              "      <td>0</td>\n",
              "      <td>0</td>\n",
              "      <td>0</td>\n",
              "      <td>0</td>\n",
              "      <td>0</td>\n",
              "      <td>0</td>\n",
              "      <td>0</td>\n",
              "      <td>0</td>\n",
              "    </tr>\n",
              "    <tr>\n",
              "      <th>1</th>\n",
              "      <td>0</td>\n",
              "      <td>0</td>\n",
              "      <td>0</td>\n",
              "      <td>0</td>\n",
              "      <td>0</td>\n",
              "      <td>0</td>\n",
              "      <td>0</td>\n",
              "      <td>0</td>\n",
              "      <td>0</td>\n",
              "      <td>0</td>\n",
              "      <td>...</td>\n",
              "      <td>0</td>\n",
              "      <td>0</td>\n",
              "      <td>0</td>\n",
              "      <td>0</td>\n",
              "      <td>0</td>\n",
              "      <td>0</td>\n",
              "      <td>0</td>\n",
              "      <td>0</td>\n",
              "      <td>0</td>\n",
              "      <td>0</td>\n",
              "    </tr>\n",
              "    <tr>\n",
              "      <th>2</th>\n",
              "      <td>0</td>\n",
              "      <td>0</td>\n",
              "      <td>0</td>\n",
              "      <td>0</td>\n",
              "      <td>0</td>\n",
              "      <td>0</td>\n",
              "      <td>0</td>\n",
              "      <td>0</td>\n",
              "      <td>0</td>\n",
              "      <td>0</td>\n",
              "      <td>...</td>\n",
              "      <td>0</td>\n",
              "      <td>0</td>\n",
              "      <td>0</td>\n",
              "      <td>0</td>\n",
              "      <td>0</td>\n",
              "      <td>0</td>\n",
              "      <td>0</td>\n",
              "      <td>0</td>\n",
              "      <td>0</td>\n",
              "      <td>0</td>\n",
              "    </tr>\n",
              "    <tr>\n",
              "      <th>3</th>\n",
              "      <td>0</td>\n",
              "      <td>0</td>\n",
              "      <td>0</td>\n",
              "      <td>0</td>\n",
              "      <td>0</td>\n",
              "      <td>0</td>\n",
              "      <td>0</td>\n",
              "      <td>0</td>\n",
              "      <td>0</td>\n",
              "      <td>0</td>\n",
              "      <td>...</td>\n",
              "      <td>0</td>\n",
              "      <td>0</td>\n",
              "      <td>0</td>\n",
              "      <td>0</td>\n",
              "      <td>0</td>\n",
              "      <td>0</td>\n",
              "      <td>0</td>\n",
              "      <td>0</td>\n",
              "      <td>0</td>\n",
              "      <td>0</td>\n",
              "    </tr>\n",
              "    <tr>\n",
              "      <th>4</th>\n",
              "      <td>1</td>\n",
              "      <td>0</td>\n",
              "      <td>0</td>\n",
              "      <td>0</td>\n",
              "      <td>0</td>\n",
              "      <td>0</td>\n",
              "      <td>0</td>\n",
              "      <td>0</td>\n",
              "      <td>0</td>\n",
              "      <td>0</td>\n",
              "      <td>...</td>\n",
              "      <td>0</td>\n",
              "      <td>0</td>\n",
              "      <td>0</td>\n",
              "      <td>0</td>\n",
              "      <td>0</td>\n",
              "      <td>0</td>\n",
              "      <td>0</td>\n",
              "      <td>0</td>\n",
              "      <td>0</td>\n",
              "      <td>0</td>\n",
              "    </tr>\n",
              "    <tr>\n",
              "      <th>5</th>\n",
              "      <td>0</td>\n",
              "      <td>0</td>\n",
              "      <td>0</td>\n",
              "      <td>0</td>\n",
              "      <td>0</td>\n",
              "      <td>0</td>\n",
              "      <td>0</td>\n",
              "      <td>0</td>\n",
              "      <td>0</td>\n",
              "      <td>0</td>\n",
              "      <td>...</td>\n",
              "      <td>0</td>\n",
              "      <td>0</td>\n",
              "      <td>0</td>\n",
              "      <td>0</td>\n",
              "      <td>0</td>\n",
              "      <td>0</td>\n",
              "      <td>0</td>\n",
              "      <td>0</td>\n",
              "      <td>0</td>\n",
              "      <td>0</td>\n",
              "    </tr>\n",
              "    <tr>\n",
              "      <th>6</th>\n",
              "      <td>0</td>\n",
              "      <td>0</td>\n",
              "      <td>0</td>\n",
              "      <td>0</td>\n",
              "      <td>0</td>\n",
              "      <td>0</td>\n",
              "      <td>0</td>\n",
              "      <td>0</td>\n",
              "      <td>0</td>\n",
              "      <td>0</td>\n",
              "      <td>...</td>\n",
              "      <td>0</td>\n",
              "      <td>0</td>\n",
              "      <td>0</td>\n",
              "      <td>0</td>\n",
              "      <td>0</td>\n",
              "      <td>0</td>\n",
              "      <td>0</td>\n",
              "      <td>0</td>\n",
              "      <td>0</td>\n",
              "      <td>0</td>\n",
              "    </tr>\n",
              "  </tbody>\n",
              "</table>\n",
              "<p>7 rows × 127 columns</p>\n",
              "</div>\n",
              "      <button class=\"colab-df-convert\" onclick=\"convertToInteractive('df-ef3dcd23-0185-44d8-9a28-084f8f17341a')\"\n",
              "              title=\"Convert this dataframe to an interactive table.\"\n",
              "              style=\"display:none;\">\n",
              "        \n",
              "  <svg xmlns=\"http://www.w3.org/2000/svg\" height=\"24px\"viewBox=\"0 0 24 24\"\n",
              "       width=\"24px\">\n",
              "    <path d=\"M0 0h24v24H0V0z\" fill=\"none\"/>\n",
              "    <path d=\"M18.56 5.44l.94 2.06.94-2.06 2.06-.94-2.06-.94-.94-2.06-.94 2.06-2.06.94zm-11 1L8.5 8.5l.94-2.06 2.06-.94-2.06-.94L8.5 2.5l-.94 2.06-2.06.94zm10 10l.94 2.06.94-2.06 2.06-.94-2.06-.94-.94-2.06-.94 2.06-2.06.94z\"/><path d=\"M17.41 7.96l-1.37-1.37c-.4-.4-.92-.59-1.43-.59-.52 0-1.04.2-1.43.59L10.3 9.45l-7.72 7.72c-.78.78-.78 2.05 0 2.83L4 21.41c.39.39.9.59 1.41.59.51 0 1.02-.2 1.41-.59l7.78-7.78 2.81-2.81c.8-.78.8-2.07 0-2.86zM5.41 20L4 18.59l7.72-7.72 1.47 1.35L5.41 20z\"/>\n",
              "  </svg>\n",
              "      </button>\n",
              "      \n",
              "  <style>\n",
              "    .colab-df-container {\n",
              "      display:flex;\n",
              "      flex-wrap:wrap;\n",
              "      gap: 12px;\n",
              "    }\n",
              "\n",
              "    .colab-df-convert {\n",
              "      background-color: #E8F0FE;\n",
              "      border: none;\n",
              "      border-radius: 50%;\n",
              "      cursor: pointer;\n",
              "      display: none;\n",
              "      fill: #1967D2;\n",
              "      height: 32px;\n",
              "      padding: 0 0 0 0;\n",
              "      width: 32px;\n",
              "    }\n",
              "\n",
              "    .colab-df-convert:hover {\n",
              "      background-color: #E2EBFA;\n",
              "      box-shadow: 0px 1px 2px rgba(60, 64, 67, 0.3), 0px 1px 3px 1px rgba(60, 64, 67, 0.15);\n",
              "      fill: #174EA6;\n",
              "    }\n",
              "\n",
              "    [theme=dark] .colab-df-convert {\n",
              "      background-color: #3B4455;\n",
              "      fill: #D2E3FC;\n",
              "    }\n",
              "\n",
              "    [theme=dark] .colab-df-convert:hover {\n",
              "      background-color: #434B5C;\n",
              "      box-shadow: 0px 1px 3px 1px rgba(0, 0, 0, 0.15);\n",
              "      filter: drop-shadow(0px 1px 2px rgba(0, 0, 0, 0.3));\n",
              "      fill: #FFFFFF;\n",
              "    }\n",
              "  </style>\n",
              "\n",
              "      <script>\n",
              "        const buttonEl =\n",
              "          document.querySelector('#df-ef3dcd23-0185-44d8-9a28-084f8f17341a button.colab-df-convert');\n",
              "        buttonEl.style.display =\n",
              "          google.colab.kernel.accessAllowed ? 'block' : 'none';\n",
              "\n",
              "        async function convertToInteractive(key) {\n",
              "          const element = document.querySelector('#df-ef3dcd23-0185-44d8-9a28-084f8f17341a');\n",
              "          const dataTable =\n",
              "            await google.colab.kernel.invokeFunction('convertToInteractive',\n",
              "                                                     [key], {});\n",
              "          if (!dataTable) return;\n",
              "\n",
              "          const docLinkHtml = 'Like what you see? Visit the ' +\n",
              "            '<a target=\"_blank\" href=https://colab.research.google.com/notebooks/data_table.ipynb>data table notebook</a>'\n",
              "            + ' to learn more about interactive tables.';\n",
              "          element.innerHTML = '';\n",
              "          dataTable['output_type'] = 'display_data';\n",
              "          await google.colab.output.renderOutput(dataTable, element);\n",
              "          const docLink = document.createElement('div');\n",
              "          docLink.innerHTML = docLinkHtml;\n",
              "          element.appendChild(docLink);\n",
              "        }\n",
              "      </script>\n",
              "    </div>\n",
              "  </div>\n",
              "  "
            ],
            "text/plain": [
              "   1500  2500  2500hd  300  3500  5  acadia  altima  armada  bus  ...  van  \\\n",
              "0     0     0       0    0     0  0       0       0       0    0  ...    0   \n",
              "1     0     0       0    0     0  0       0       0       0    0  ...    0   \n",
              "2     0     0       0    0     0  0       0       0       0    0  ...    0   \n",
              "3     0     0       0    0     0  0       0       0       0    0  ...    0   \n",
              "4     1     0       0    0     0  0       0       0       0    0  ...    0   \n",
              "5     0     0       0    0     0  0       0       0       0    0  ...    0   \n",
              "6     0     0       0    0     0  0       0       0       0    0  ...    0   \n",
              "\n",
              "   vans  vehicl  versa  volt  wagon  x3  xd  xt5  xterra  \n",
              "0     0       0      0     0      0   0   0    0       0  \n",
              "1     0       0      0     0      0   0   0    0       0  \n",
              "2     0       0      0     0      0   0   0    0       0  \n",
              "3     0       0      0     0      0   0   0    0       0  \n",
              "4     0       0      0     0      0   0   0    0       0  \n",
              "5     0       0      0     0      0   0   0    0       0  \n",
              "6     0       0      0     0      0   0   0    0       0  \n",
              "\n",
              "[7 rows x 127 columns]"
            ]
          },
          "execution_count": 20,
          "metadata": {},
          "output_type": "execute_result"
        }
      ],
      "source": [
        "Model_dummies = pd.get_dummies(data['model'])\n",
        "Model_dummies.head(7)"
      ]
    },
    {
      "cell_type": "code",
      "execution_count": 21,
      "id": "ac72efc5",
      "metadata": {
        "colab": {
          "base_uri": "https://localhost:8080/",
          "height": 0
        },
        "id": "ac72efc5",
        "outputId": "77c2272d-898c-4ed3-d7f0-1f25c0eb0143"
      },
      "outputs": [
        {
          "data": {
            "text/html": [
              "\n",
              "  <div id=\"df-78da3235-bdfe-415a-81c2-e9d008d31b54\">\n",
              "    <div class=\"colab-df-container\">\n",
              "      <div>\n",
              "<style scoped>\n",
              "    .dataframe tbody tr th:only-of-type {\n",
              "        vertical-align: middle;\n",
              "    }\n",
              "\n",
              "    .dataframe tbody tr th {\n",
              "        vertical-align: top;\n",
              "    }\n",
              "\n",
              "    .dataframe thead th {\n",
              "        text-align: right;\n",
              "    }\n",
              "</style>\n",
              "<table border=\"1\" class=\"dataframe\">\n",
              "  <thead>\n",
              "    <tr style=\"text-align: right;\">\n",
              "      <th></th>\n",
              "      <th>acura</th>\n",
              "      <th>audi</th>\n",
              "      <th>bmw</th>\n",
              "      <th>buick</th>\n",
              "      <th>cadillac</th>\n",
              "      <th>chevrolet</th>\n",
              "      <th>chrysler</th>\n",
              "      <th>dodge</th>\n",
              "      <th>ford</th>\n",
              "      <th>gmc</th>\n",
              "      <th>...</th>\n",
              "      <th>land</th>\n",
              "      <th>lexus</th>\n",
              "      <th>lincoln</th>\n",
              "      <th>maserati</th>\n",
              "      <th>mazda</th>\n",
              "      <th>mercedes-benz</th>\n",
              "      <th>nissan</th>\n",
              "      <th>peterbilt</th>\n",
              "      <th>ram</th>\n",
              "      <th>toyota</th>\n",
              "    </tr>\n",
              "  </thead>\n",
              "  <tbody>\n",
              "    <tr>\n",
              "      <th>0</th>\n",
              "      <td>0</td>\n",
              "      <td>0</td>\n",
              "      <td>0</td>\n",
              "      <td>0</td>\n",
              "      <td>0</td>\n",
              "      <td>0</td>\n",
              "      <td>0</td>\n",
              "      <td>0</td>\n",
              "      <td>0</td>\n",
              "      <td>0</td>\n",
              "      <td>...</td>\n",
              "      <td>0</td>\n",
              "      <td>0</td>\n",
              "      <td>0</td>\n",
              "      <td>0</td>\n",
              "      <td>0</td>\n",
              "      <td>0</td>\n",
              "      <td>0</td>\n",
              "      <td>0</td>\n",
              "      <td>0</td>\n",
              "      <td>1</td>\n",
              "    </tr>\n",
              "    <tr>\n",
              "      <th>1</th>\n",
              "      <td>0</td>\n",
              "      <td>0</td>\n",
              "      <td>0</td>\n",
              "      <td>0</td>\n",
              "      <td>0</td>\n",
              "      <td>0</td>\n",
              "      <td>0</td>\n",
              "      <td>0</td>\n",
              "      <td>1</td>\n",
              "      <td>0</td>\n",
              "      <td>...</td>\n",
              "      <td>0</td>\n",
              "      <td>0</td>\n",
              "      <td>0</td>\n",
              "      <td>0</td>\n",
              "      <td>0</td>\n",
              "      <td>0</td>\n",
              "      <td>0</td>\n",
              "      <td>0</td>\n",
              "      <td>0</td>\n",
              "      <td>0</td>\n",
              "    </tr>\n",
              "    <tr>\n",
              "      <th>2</th>\n",
              "      <td>0</td>\n",
              "      <td>0</td>\n",
              "      <td>0</td>\n",
              "      <td>0</td>\n",
              "      <td>0</td>\n",
              "      <td>0</td>\n",
              "      <td>0</td>\n",
              "      <td>1</td>\n",
              "      <td>0</td>\n",
              "      <td>0</td>\n",
              "      <td>...</td>\n",
              "      <td>0</td>\n",
              "      <td>0</td>\n",
              "      <td>0</td>\n",
              "      <td>0</td>\n",
              "      <td>0</td>\n",
              "      <td>0</td>\n",
              "      <td>0</td>\n",
              "      <td>0</td>\n",
              "      <td>0</td>\n",
              "      <td>0</td>\n",
              "    </tr>\n",
              "    <tr>\n",
              "      <th>3</th>\n",
              "      <td>0</td>\n",
              "      <td>0</td>\n",
              "      <td>0</td>\n",
              "      <td>0</td>\n",
              "      <td>0</td>\n",
              "      <td>0</td>\n",
              "      <td>0</td>\n",
              "      <td>0</td>\n",
              "      <td>1</td>\n",
              "      <td>0</td>\n",
              "      <td>...</td>\n",
              "      <td>0</td>\n",
              "      <td>0</td>\n",
              "      <td>0</td>\n",
              "      <td>0</td>\n",
              "      <td>0</td>\n",
              "      <td>0</td>\n",
              "      <td>0</td>\n",
              "      <td>0</td>\n",
              "      <td>0</td>\n",
              "      <td>0</td>\n",
              "    </tr>\n",
              "    <tr>\n",
              "      <th>4</th>\n",
              "      <td>0</td>\n",
              "      <td>0</td>\n",
              "      <td>0</td>\n",
              "      <td>0</td>\n",
              "      <td>0</td>\n",
              "      <td>1</td>\n",
              "      <td>0</td>\n",
              "      <td>0</td>\n",
              "      <td>0</td>\n",
              "      <td>0</td>\n",
              "      <td>...</td>\n",
              "      <td>0</td>\n",
              "      <td>0</td>\n",
              "      <td>0</td>\n",
              "      <td>0</td>\n",
              "      <td>0</td>\n",
              "      <td>0</td>\n",
              "      <td>0</td>\n",
              "      <td>0</td>\n",
              "      <td>0</td>\n",
              "      <td>0</td>\n",
              "    </tr>\n",
              "    <tr>\n",
              "      <th>5</th>\n",
              "      <td>0</td>\n",
              "      <td>0</td>\n",
              "      <td>0</td>\n",
              "      <td>0</td>\n",
              "      <td>0</td>\n",
              "      <td>0</td>\n",
              "      <td>0</td>\n",
              "      <td>1</td>\n",
              "      <td>0</td>\n",
              "      <td>0</td>\n",
              "      <td>...</td>\n",
              "      <td>0</td>\n",
              "      <td>0</td>\n",
              "      <td>0</td>\n",
              "      <td>0</td>\n",
              "      <td>0</td>\n",
              "      <td>0</td>\n",
              "      <td>0</td>\n",
              "      <td>0</td>\n",
              "      <td>0</td>\n",
              "      <td>0</td>\n",
              "    </tr>\n",
              "    <tr>\n",
              "      <th>6</th>\n",
              "      <td>0</td>\n",
              "      <td>0</td>\n",
              "      <td>0</td>\n",
              "      <td>0</td>\n",
              "      <td>0</td>\n",
              "      <td>1</td>\n",
              "      <td>0</td>\n",
              "      <td>0</td>\n",
              "      <td>0</td>\n",
              "      <td>0</td>\n",
              "      <td>...</td>\n",
              "      <td>0</td>\n",
              "      <td>0</td>\n",
              "      <td>0</td>\n",
              "      <td>0</td>\n",
              "      <td>0</td>\n",
              "      <td>0</td>\n",
              "      <td>0</td>\n",
              "      <td>0</td>\n",
              "      <td>0</td>\n",
              "      <td>0</td>\n",
              "    </tr>\n",
              "  </tbody>\n",
              "</table>\n",
              "<p>7 rows × 28 columns</p>\n",
              "</div>\n",
              "      <button class=\"colab-df-convert\" onclick=\"convertToInteractive('df-78da3235-bdfe-415a-81c2-e9d008d31b54')\"\n",
              "              title=\"Convert this dataframe to an interactive table.\"\n",
              "              style=\"display:none;\">\n",
              "        \n",
              "  <svg xmlns=\"http://www.w3.org/2000/svg\" height=\"24px\"viewBox=\"0 0 24 24\"\n",
              "       width=\"24px\">\n",
              "    <path d=\"M0 0h24v24H0V0z\" fill=\"none\"/>\n",
              "    <path d=\"M18.56 5.44l.94 2.06.94-2.06 2.06-.94-2.06-.94-.94-2.06-.94 2.06-2.06.94zm-11 1L8.5 8.5l.94-2.06 2.06-.94-2.06-.94L8.5 2.5l-.94 2.06-2.06.94zm10 10l.94 2.06.94-2.06 2.06-.94-2.06-.94-.94-2.06-.94 2.06-2.06.94z\"/><path d=\"M17.41 7.96l-1.37-1.37c-.4-.4-.92-.59-1.43-.59-.52 0-1.04.2-1.43.59L10.3 9.45l-7.72 7.72c-.78.78-.78 2.05 0 2.83L4 21.41c.39.39.9.59 1.41.59.51 0 1.02-.2 1.41-.59l7.78-7.78 2.81-2.81c.8-.78.8-2.07 0-2.86zM5.41 20L4 18.59l7.72-7.72 1.47 1.35L5.41 20z\"/>\n",
              "  </svg>\n",
              "      </button>\n",
              "      \n",
              "  <style>\n",
              "    .colab-df-container {\n",
              "      display:flex;\n",
              "      flex-wrap:wrap;\n",
              "      gap: 12px;\n",
              "    }\n",
              "\n",
              "    .colab-df-convert {\n",
              "      background-color: #E8F0FE;\n",
              "      border: none;\n",
              "      border-radius: 50%;\n",
              "      cursor: pointer;\n",
              "      display: none;\n",
              "      fill: #1967D2;\n",
              "      height: 32px;\n",
              "      padding: 0 0 0 0;\n",
              "      width: 32px;\n",
              "    }\n",
              "\n",
              "    .colab-df-convert:hover {\n",
              "      background-color: #E2EBFA;\n",
              "      box-shadow: 0px 1px 2px rgba(60, 64, 67, 0.3), 0px 1px 3px 1px rgba(60, 64, 67, 0.15);\n",
              "      fill: #174EA6;\n",
              "    }\n",
              "\n",
              "    [theme=dark] .colab-df-convert {\n",
              "      background-color: #3B4455;\n",
              "      fill: #D2E3FC;\n",
              "    }\n",
              "\n",
              "    [theme=dark] .colab-df-convert:hover {\n",
              "      background-color: #434B5C;\n",
              "      box-shadow: 0px 1px 3px 1px rgba(0, 0, 0, 0.15);\n",
              "      filter: drop-shadow(0px 1px 2px rgba(0, 0, 0, 0.3));\n",
              "      fill: #FFFFFF;\n",
              "    }\n",
              "  </style>\n",
              "\n",
              "      <script>\n",
              "        const buttonEl =\n",
              "          document.querySelector('#df-78da3235-bdfe-415a-81c2-e9d008d31b54 button.colab-df-convert');\n",
              "        buttonEl.style.display =\n",
              "          google.colab.kernel.accessAllowed ? 'block' : 'none';\n",
              "\n",
              "        async function convertToInteractive(key) {\n",
              "          const element = document.querySelector('#df-78da3235-bdfe-415a-81c2-e9d008d31b54');\n",
              "          const dataTable =\n",
              "            await google.colab.kernel.invokeFunction('convertToInteractive',\n",
              "                                                     [key], {});\n",
              "          if (!dataTable) return;\n",
              "\n",
              "          const docLinkHtml = 'Like what you see? Visit the ' +\n",
              "            '<a target=\"_blank\" href=https://colab.research.google.com/notebooks/data_table.ipynb>data table notebook</a>'\n",
              "            + ' to learn more about interactive tables.';\n",
              "          element.innerHTML = '';\n",
              "          dataTable['output_type'] = 'display_data';\n",
              "          await google.colab.output.renderOutput(dataTable, element);\n",
              "          const docLink = document.createElement('div');\n",
              "          docLink.innerHTML = docLinkHtml;\n",
              "          element.appendChild(docLink);\n",
              "        }\n",
              "      </script>\n",
              "    </div>\n",
              "  </div>\n",
              "  "
            ],
            "text/plain": [
              "   acura  audi  bmw  buick  cadillac  chevrolet  chrysler  dodge  ford  gmc  \\\n",
              "0      0     0    0      0         0          0         0      0     0    0   \n",
              "1      0     0    0      0         0          0         0      0     1    0   \n",
              "2      0     0    0      0         0          0         0      1     0    0   \n",
              "3      0     0    0      0         0          0         0      0     1    0   \n",
              "4      0     0    0      0         0          1         0      0     0    0   \n",
              "5      0     0    0      0         0          0         0      1     0    0   \n",
              "6      0     0    0      0         0          1         0      0     0    0   \n",
              "\n",
              "   ...  land  lexus  lincoln  maserati  mazda  mercedes-benz  nissan  \\\n",
              "0  ...     0      0        0         0      0              0       0   \n",
              "1  ...     0      0        0         0      0              0       0   \n",
              "2  ...     0      0        0         0      0              0       0   \n",
              "3  ...     0      0        0         0      0              0       0   \n",
              "4  ...     0      0        0         0      0              0       0   \n",
              "5  ...     0      0        0         0      0              0       0   \n",
              "6  ...     0      0        0         0      0              0       0   \n",
              "\n",
              "   peterbilt  ram  toyota  \n",
              "0          0    0       1  \n",
              "1          0    0       0  \n",
              "2          0    0       0  \n",
              "3          0    0       0  \n",
              "4          0    0       0  \n",
              "5          0    0       0  \n",
              "6          0    0       0  \n",
              "\n",
              "[7 rows x 28 columns]"
            ]
          },
          "execution_count": 21,
          "metadata": {},
          "output_type": "execute_result"
        }
      ],
      "source": [
        "Brand_dummies = pd.get_dummies(data['brand'])\n",
        "Brand_dummies.head(7)"
      ]
    },
    {
      "cell_type": "markdown",
      "id": "51201ecd",
      "metadata": {
        "id": "51201ecd"
      },
      "source": [
        "Добавим эти dummy-столбцы к таблице и удалим соответствующие столбецы:"
      ]
    },
    {
      "cell_type": "code",
      "execution_count": 22,
      "id": "8d02a0ce",
      "metadata": {
        "id": "8d02a0ce"
      },
      "outputs": [],
      "source": [
        "data_new = pd.concat((data_new, Title_Status_dummies), axis=1)\n",
        "data_new = data_new.drop(['title_status'], axis=1)\n",
        "data_new = pd.concat((data_new, Model_dummies), axis=1)\n",
        "data_new = data_new.drop(['model'], axis=1)\n",
        "data_new = pd.concat((data_new, Brand_dummies), axis=1)\n",
        "data_new = data_new.drop(['brand'], axis=1)"
      ]
    },
    {
      "cell_type": "code",
      "execution_count": 23,
      "id": "8a0314e3",
      "metadata": {
        "colab": {
          "base_uri": "https://localhost:8080/",
          "height": 0
        },
        "id": "8a0314e3",
        "outputId": "616f0bb2-fc49-4b2d-cff6-4d8b8888c932"
      },
      "outputs": [
        {
          "data": {
            "text/html": [
              "\n",
              "  <div id=\"df-f797f9fd-6509-4424-8e2f-0928b4640cae\">\n",
              "    <div class=\"colab-df-container\">\n",
              "      <div>\n",
              "<style scoped>\n",
              "    .dataframe tbody tr th:only-of-type {\n",
              "        vertical-align: middle;\n",
              "    }\n",
              "\n",
              "    .dataframe tbody tr th {\n",
              "        vertical-align: top;\n",
              "    }\n",
              "\n",
              "    .dataframe thead th {\n",
              "        text-align: right;\n",
              "    }\n",
              "</style>\n",
              "<table border=\"1\" class=\"dataframe\">\n",
              "  <thead>\n",
              "    <tr style=\"text-align: right;\">\n",
              "      <th></th>\n",
              "      <th>price</th>\n",
              "      <th>year</th>\n",
              "      <th>mileage</th>\n",
              "      <th>color</th>\n",
              "      <th>country</th>\n",
              "      <th>binary_price</th>\n",
              "      <th>clean vehicle</th>\n",
              "      <th>salvage insurance</th>\n",
              "      <th>1500</th>\n",
              "      <th>2500</th>\n",
              "      <th>...</th>\n",
              "      <th>land</th>\n",
              "      <th>lexus</th>\n",
              "      <th>lincoln</th>\n",
              "      <th>maserati</th>\n",
              "      <th>mazda</th>\n",
              "      <th>mercedes-benz</th>\n",
              "      <th>nissan</th>\n",
              "      <th>peterbilt</th>\n",
              "      <th>ram</th>\n",
              "      <th>toyota</th>\n",
              "    </tr>\n",
              "  </thead>\n",
              "  <tbody>\n",
              "    <tr>\n",
              "      <th>0</th>\n",
              "      <td>6300</td>\n",
              "      <td>2008</td>\n",
              "      <td>274117.0</td>\n",
              "      <td>0</td>\n",
              "      <td>0</td>\n",
              "      <td>0</td>\n",
              "      <td>1</td>\n",
              "      <td>0</td>\n",
              "      <td>0</td>\n",
              "      <td>0</td>\n",
              "      <td>...</td>\n",
              "      <td>0</td>\n",
              "      <td>0</td>\n",
              "      <td>0</td>\n",
              "      <td>0</td>\n",
              "      <td>0</td>\n",
              "      <td>0</td>\n",
              "      <td>0</td>\n",
              "      <td>0</td>\n",
              "      <td>0</td>\n",
              "      <td>1</td>\n",
              "    </tr>\n",
              "    <tr>\n",
              "      <th>1</th>\n",
              "      <td>2899</td>\n",
              "      <td>2011</td>\n",
              "      <td>190552.0</td>\n",
              "      <td>1</td>\n",
              "      <td>0</td>\n",
              "      <td>0</td>\n",
              "      <td>1</td>\n",
              "      <td>0</td>\n",
              "      <td>0</td>\n",
              "      <td>0</td>\n",
              "      <td>...</td>\n",
              "      <td>0</td>\n",
              "      <td>0</td>\n",
              "      <td>0</td>\n",
              "      <td>0</td>\n",
              "      <td>0</td>\n",
              "      <td>0</td>\n",
              "      <td>0</td>\n",
              "      <td>0</td>\n",
              "      <td>0</td>\n",
              "      <td>0</td>\n",
              "    </tr>\n",
              "    <tr>\n",
              "      <th>2</th>\n",
              "      <td>5350</td>\n",
              "      <td>2018</td>\n",
              "      <td>39590.0</td>\n",
              "      <td>1</td>\n",
              "      <td>0</td>\n",
              "      <td>0</td>\n",
              "      <td>1</td>\n",
              "      <td>0</td>\n",
              "      <td>0</td>\n",
              "      <td>0</td>\n",
              "      <td>...</td>\n",
              "      <td>0</td>\n",
              "      <td>0</td>\n",
              "      <td>0</td>\n",
              "      <td>0</td>\n",
              "      <td>0</td>\n",
              "      <td>0</td>\n",
              "      <td>0</td>\n",
              "      <td>0</td>\n",
              "      <td>0</td>\n",
              "      <td>0</td>\n",
              "    </tr>\n",
              "    <tr>\n",
              "      <th>3</th>\n",
              "      <td>25000</td>\n",
              "      <td>2014</td>\n",
              "      <td>64146.0</td>\n",
              "      <td>2</td>\n",
              "      <td>0</td>\n",
              "      <td>0</td>\n",
              "      <td>1</td>\n",
              "      <td>0</td>\n",
              "      <td>0</td>\n",
              "      <td>0</td>\n",
              "      <td>...</td>\n",
              "      <td>0</td>\n",
              "      <td>0</td>\n",
              "      <td>0</td>\n",
              "      <td>0</td>\n",
              "      <td>0</td>\n",
              "      <td>0</td>\n",
              "      <td>0</td>\n",
              "      <td>0</td>\n",
              "      <td>0</td>\n",
              "      <td>0</td>\n",
              "    </tr>\n",
              "    <tr>\n",
              "      <th>4</th>\n",
              "      <td>27700</td>\n",
              "      <td>2018</td>\n",
              "      <td>6654.0</td>\n",
              "      <td>3</td>\n",
              "      <td>0</td>\n",
              "      <td>0</td>\n",
              "      <td>1</td>\n",
              "      <td>0</td>\n",
              "      <td>1</td>\n",
              "      <td>0</td>\n",
              "      <td>...</td>\n",
              "      <td>0</td>\n",
              "      <td>0</td>\n",
              "      <td>0</td>\n",
              "      <td>0</td>\n",
              "      <td>0</td>\n",
              "      <td>0</td>\n",
              "      <td>0</td>\n",
              "      <td>0</td>\n",
              "      <td>0</td>\n",
              "      <td>0</td>\n",
              "    </tr>\n",
              "  </tbody>\n",
              "</table>\n",
              "<p>5 rows × 163 columns</p>\n",
              "</div>\n",
              "      <button class=\"colab-df-convert\" onclick=\"convertToInteractive('df-f797f9fd-6509-4424-8e2f-0928b4640cae')\"\n",
              "              title=\"Convert this dataframe to an interactive table.\"\n",
              "              style=\"display:none;\">\n",
              "        \n",
              "  <svg xmlns=\"http://www.w3.org/2000/svg\" height=\"24px\"viewBox=\"0 0 24 24\"\n",
              "       width=\"24px\">\n",
              "    <path d=\"M0 0h24v24H0V0z\" fill=\"none\"/>\n",
              "    <path d=\"M18.56 5.44l.94 2.06.94-2.06 2.06-.94-2.06-.94-.94-2.06-.94 2.06-2.06.94zm-11 1L8.5 8.5l.94-2.06 2.06-.94-2.06-.94L8.5 2.5l-.94 2.06-2.06.94zm10 10l.94 2.06.94-2.06 2.06-.94-2.06-.94-.94-2.06-.94 2.06-2.06.94z\"/><path d=\"M17.41 7.96l-1.37-1.37c-.4-.4-.92-.59-1.43-.59-.52 0-1.04.2-1.43.59L10.3 9.45l-7.72 7.72c-.78.78-.78 2.05 0 2.83L4 21.41c.39.39.9.59 1.41.59.51 0 1.02-.2 1.41-.59l7.78-7.78 2.81-2.81c.8-.78.8-2.07 0-2.86zM5.41 20L4 18.59l7.72-7.72 1.47 1.35L5.41 20z\"/>\n",
              "  </svg>\n",
              "      </button>\n",
              "      \n",
              "  <style>\n",
              "    .colab-df-container {\n",
              "      display:flex;\n",
              "      flex-wrap:wrap;\n",
              "      gap: 12px;\n",
              "    }\n",
              "\n",
              "    .colab-df-convert {\n",
              "      background-color: #E8F0FE;\n",
              "      border: none;\n",
              "      border-radius: 50%;\n",
              "      cursor: pointer;\n",
              "      display: none;\n",
              "      fill: #1967D2;\n",
              "      height: 32px;\n",
              "      padding: 0 0 0 0;\n",
              "      width: 32px;\n",
              "    }\n",
              "\n",
              "    .colab-df-convert:hover {\n",
              "      background-color: #E2EBFA;\n",
              "      box-shadow: 0px 1px 2px rgba(60, 64, 67, 0.3), 0px 1px 3px 1px rgba(60, 64, 67, 0.15);\n",
              "      fill: #174EA6;\n",
              "    }\n",
              "\n",
              "    [theme=dark] .colab-df-convert {\n",
              "      background-color: #3B4455;\n",
              "      fill: #D2E3FC;\n",
              "    }\n",
              "\n",
              "    [theme=dark] .colab-df-convert:hover {\n",
              "      background-color: #434B5C;\n",
              "      box-shadow: 0px 1px 3px 1px rgba(0, 0, 0, 0.15);\n",
              "      filter: drop-shadow(0px 1px 2px rgba(0, 0, 0, 0.3));\n",
              "      fill: #FFFFFF;\n",
              "    }\n",
              "  </style>\n",
              "\n",
              "      <script>\n",
              "        const buttonEl =\n",
              "          document.querySelector('#df-f797f9fd-6509-4424-8e2f-0928b4640cae button.colab-df-convert');\n",
              "        buttonEl.style.display =\n",
              "          google.colab.kernel.accessAllowed ? 'block' : 'none';\n",
              "\n",
              "        async function convertToInteractive(key) {\n",
              "          const element = document.querySelector('#df-f797f9fd-6509-4424-8e2f-0928b4640cae');\n",
              "          const dataTable =\n",
              "            await google.colab.kernel.invokeFunction('convertToInteractive',\n",
              "                                                     [key], {});\n",
              "          if (!dataTable) return;\n",
              "\n",
              "          const docLinkHtml = 'Like what you see? Visit the ' +\n",
              "            '<a target=\"_blank\" href=https://colab.research.google.com/notebooks/data_table.ipynb>data table notebook</a>'\n",
              "            + ' to learn more about interactive tables.';\n",
              "          element.innerHTML = '';\n",
              "          dataTable['output_type'] = 'display_data';\n",
              "          await google.colab.output.renderOutput(dataTable, element);\n",
              "          const docLink = document.createElement('div');\n",
              "          docLink.innerHTML = docLinkHtml;\n",
              "          element.appendChild(docLink);\n",
              "        }\n",
              "      </script>\n",
              "    </div>\n",
              "  </div>\n",
              "  "
            ],
            "text/plain": [
              "   price  year   mileage  color  country  binary_price  clean vehicle  \\\n",
              "0   6300  2008  274117.0      0        0             0              1   \n",
              "1   2899  2011  190552.0      1        0             0              1   \n",
              "2   5350  2018   39590.0      1        0             0              1   \n",
              "3  25000  2014   64146.0      2        0             0              1   \n",
              "4  27700  2018    6654.0      3        0             0              1   \n",
              "\n",
              "   salvage insurance  1500  2500  ...  land  lexus  lincoln  maserati  mazda  \\\n",
              "0                  0     0     0  ...     0      0        0         0      0   \n",
              "1                  0     0     0  ...     0      0        0         0      0   \n",
              "2                  0     0     0  ...     0      0        0         0      0   \n",
              "3                  0     0     0  ...     0      0        0         0      0   \n",
              "4                  0     1     0  ...     0      0        0         0      0   \n",
              "\n",
              "   mercedes-benz  nissan  peterbilt  ram  toyota  \n",
              "0              0       0          0    0       1  \n",
              "1              0       0          0    0       0  \n",
              "2              0       0          0    0       0  \n",
              "3              0       0          0    0       0  \n",
              "4              0       0          0    0       0  \n",
              "\n",
              "[5 rows x 163 columns]"
            ]
          },
          "execution_count": 23,
          "metadata": {},
          "output_type": "execute_result"
        }
      ],
      "source": [
        "data_new.head()"
      ]
    },
    {
      "cell_type": "markdown",
      "id": "1298fd82",
      "metadata": {
        "id": "1298fd82"
      },
      "source": [
        "## 5. Нормализация количественных признаков"
      ]
    },
    {
      "cell_type": "markdown",
      "id": "d81284e1",
      "metadata": {
        "id": "d81284e1"
      },
      "source": [
        "Перед применением алгоритмов машинного обучения количественные признаки нужно нормализовать. Выполним приведение всех признаков к отрезку $[0,1]$."
      ]
    },
    {
      "cell_type": "code",
      "execution_count": 24,
      "id": "f2263663",
      "metadata": {
        "colab": {
          "base_uri": "https://localhost:8080/"
        },
        "id": "f2263663",
        "outputId": "00bef2ad-0200-4ca5-fcab-6a990d645d55"
      },
      "outputs": [
        {
          "data": {
            "text/plain": [
              "Index(['price', 'year', 'mileage', 'color', 'country', 'binary_price',\n",
              "       'clean vehicle', 'salvage insurance', '1500', '2500',\n",
              "       ...\n",
              "       'land', 'lexus', 'lincoln', 'maserati', 'mazda', 'mercedes-benz',\n",
              "       'nissan', 'peterbilt', 'ram', 'toyota'],\n",
              "      dtype='object', length=163)"
            ]
          },
          "execution_count": 24,
          "metadata": {},
          "output_type": "execute_result"
        }
      ],
      "source": [
        "data_new.columns"
      ]
    },
    {
      "cell_type": "code",
      "execution_count": 25,
      "id": "3d9336b9",
      "metadata": {
        "colab": {
          "base_uri": "https://localhost:8080/",
          "height": 0
        },
        "id": "3d9336b9",
        "outputId": "1255a338-4ba8-49ae-fa21-5404424deb9d"
      },
      "outputs": [
        {
          "data": {
            "text/html": [
              "\n",
              "  <div id=\"df-865df794-b28c-416f-93a3-af0fe95d09fe\">\n",
              "    <div class=\"colab-df-container\">\n",
              "      <div>\n",
              "<style scoped>\n",
              "    .dataframe tbody tr th:only-of-type {\n",
              "        vertical-align: middle;\n",
              "    }\n",
              "\n",
              "    .dataframe tbody tr th {\n",
              "        vertical-align: top;\n",
              "    }\n",
              "\n",
              "    .dataframe thead th {\n",
              "        text-align: right;\n",
              "    }\n",
              "</style>\n",
              "<table border=\"1\" class=\"dataframe\">\n",
              "  <thead>\n",
              "    <tr style=\"text-align: right;\">\n",
              "      <th></th>\n",
              "      <th>price</th>\n",
              "      <th>year</th>\n",
              "      <th>mileage</th>\n",
              "      <th>color</th>\n",
              "      <th>country</th>\n",
              "      <th>binary_price</th>\n",
              "      <th>clean vehicle</th>\n",
              "      <th>salvage insurance</th>\n",
              "      <th>1500</th>\n",
              "      <th>2500</th>\n",
              "      <th>...</th>\n",
              "      <th>land</th>\n",
              "      <th>lexus</th>\n",
              "      <th>lincoln</th>\n",
              "      <th>maserati</th>\n",
              "      <th>mazda</th>\n",
              "      <th>mercedes-benz</th>\n",
              "      <th>nissan</th>\n",
              "      <th>peterbilt</th>\n",
              "      <th>ram</th>\n",
              "      <th>toyota</th>\n",
              "    </tr>\n",
              "  </thead>\n",
              "  <tbody>\n",
              "    <tr>\n",
              "      <th>count</th>\n",
              "      <td>2499.000000</td>\n",
              "      <td>2499.000000</td>\n",
              "      <td>2499.000000</td>\n",
              "      <td>2499.000000</td>\n",
              "      <td>2499.000000</td>\n",
              "      <td>2499.000000</td>\n",
              "      <td>2499.000000</td>\n",
              "      <td>2499.000000</td>\n",
              "      <td>2499.000000</td>\n",
              "      <td>2499.000000</td>\n",
              "      <td>...</td>\n",
              "      <td>2499.000000</td>\n",
              "      <td>2499.000000</td>\n",
              "      <td>2499.000000</td>\n",
              "      <td>2499.000000</td>\n",
              "      <td>2499.000000</td>\n",
              "      <td>2499.000000</td>\n",
              "      <td>2499.000000</td>\n",
              "      <td>2499.000000</td>\n",
              "      <td>2499.000000</td>\n",
              "      <td>2499.000000</td>\n",
              "    </tr>\n",
              "    <tr>\n",
              "      <th>mean</th>\n",
              "      <td>0.221056</td>\n",
              "      <td>0.930091</td>\n",
              "      <td>0.051377</td>\n",
              "      <td>0.080115</td>\n",
              "      <td>0.002801</td>\n",
              "      <td>0.049620</td>\n",
              "      <td>0.934774</td>\n",
              "      <td>0.065226</td>\n",
              "      <td>0.015606</td>\n",
              "      <td>0.003201</td>\n",
              "      <td>...</td>\n",
              "      <td>0.001601</td>\n",
              "      <td>0.000800</td>\n",
              "      <td>0.000800</td>\n",
              "      <td>0.000400</td>\n",
              "      <td>0.000800</td>\n",
              "      <td>0.004002</td>\n",
              "      <td>0.124850</td>\n",
              "      <td>0.001601</td>\n",
              "      <td>0.000400</td>\n",
              "      <td>0.000400</td>\n",
              "    </tr>\n",
              "    <tr>\n",
              "      <th>std</th>\n",
              "      <td>0.142710</td>\n",
              "      <td>0.073248</td>\n",
              "      <td>0.058654</td>\n",
              "      <td>0.110793</td>\n",
              "      <td>0.052862</td>\n",
              "      <td>0.217202</td>\n",
              "      <td>0.246974</td>\n",
              "      <td>0.246974</td>\n",
              "      <td>0.123971</td>\n",
              "      <td>0.056501</td>\n",
              "      <td>...</td>\n",
              "      <td>0.039984</td>\n",
              "      <td>0.028284</td>\n",
              "      <td>0.028284</td>\n",
              "      <td>0.020004</td>\n",
              "      <td>0.028284</td>\n",
              "      <td>0.063144</td>\n",
              "      <td>0.330615</td>\n",
              "      <td>0.039984</td>\n",
              "      <td>0.020004</td>\n",
              "      <td>0.020004</td>\n",
              "    </tr>\n",
              "    <tr>\n",
              "      <th>min</th>\n",
              "      <td>0.000000</td>\n",
              "      <td>0.000000</td>\n",
              "      <td>0.000000</td>\n",
              "      <td>0.000000</td>\n",
              "      <td>0.000000</td>\n",
              "      <td>0.000000</td>\n",
              "      <td>0.000000</td>\n",
              "      <td>0.000000</td>\n",
              "      <td>0.000000</td>\n",
              "      <td>0.000000</td>\n",
              "      <td>...</td>\n",
              "      <td>0.000000</td>\n",
              "      <td>0.000000</td>\n",
              "      <td>0.000000</td>\n",
              "      <td>0.000000</td>\n",
              "      <td>0.000000</td>\n",
              "      <td>0.000000</td>\n",
              "      <td>0.000000</td>\n",
              "      <td>0.000000</td>\n",
              "      <td>0.000000</td>\n",
              "      <td>0.000000</td>\n",
              "    </tr>\n",
              "    <tr>\n",
              "      <th>25%</th>\n",
              "      <td>0.120141</td>\n",
              "      <td>0.914894</td>\n",
              "      <td>0.021088</td>\n",
              "      <td>0.020833</td>\n",
              "      <td>0.000000</td>\n",
              "      <td>0.000000</td>\n",
              "      <td>1.000000</td>\n",
              "      <td>0.000000</td>\n",
              "      <td>0.000000</td>\n",
              "      <td>0.000000</td>\n",
              "      <td>...</td>\n",
              "      <td>0.000000</td>\n",
              "      <td>0.000000</td>\n",
              "      <td>0.000000</td>\n",
              "      <td>0.000000</td>\n",
              "      <td>0.000000</td>\n",
              "      <td>0.000000</td>\n",
              "      <td>0.000000</td>\n",
              "      <td>0.000000</td>\n",
              "      <td>0.000000</td>\n",
              "      <td>0.000000</td>\n",
              "    </tr>\n",
              "    <tr>\n",
              "      <th>50%</th>\n",
              "      <td>0.199058</td>\n",
              "      <td>0.957447</td>\n",
              "      <td>0.034742</td>\n",
              "      <td>0.083333</td>\n",
              "      <td>0.000000</td>\n",
              "      <td>0.000000</td>\n",
              "      <td>1.000000</td>\n",
              "      <td>0.000000</td>\n",
              "      <td>0.000000</td>\n",
              "      <td>0.000000</td>\n",
              "      <td>...</td>\n",
              "      <td>0.000000</td>\n",
              "      <td>0.000000</td>\n",
              "      <td>0.000000</td>\n",
              "      <td>0.000000</td>\n",
              "      <td>0.000000</td>\n",
              "      <td>0.000000</td>\n",
              "      <td>0.000000</td>\n",
              "      <td>0.000000</td>\n",
              "      <td>0.000000</td>\n",
              "      <td>0.000000</td>\n",
              "    </tr>\n",
              "    <tr>\n",
              "      <th>75%</th>\n",
              "      <td>0.301007</td>\n",
              "      <td>0.978723</td>\n",
              "      <td>0.062354</td>\n",
              "      <td>0.104167</td>\n",
              "      <td>0.000000</td>\n",
              "      <td>0.000000</td>\n",
              "      <td>1.000000</td>\n",
              "      <td>0.000000</td>\n",
              "      <td>0.000000</td>\n",
              "      <td>0.000000</td>\n",
              "      <td>...</td>\n",
              "      <td>0.000000</td>\n",
              "      <td>0.000000</td>\n",
              "      <td>0.000000</td>\n",
              "      <td>0.000000</td>\n",
              "      <td>0.000000</td>\n",
              "      <td>0.000000</td>\n",
              "      <td>0.000000</td>\n",
              "      <td>0.000000</td>\n",
              "      <td>0.000000</td>\n",
              "      <td>0.000000</td>\n",
              "    </tr>\n",
              "    <tr>\n",
              "      <th>max</th>\n",
              "      <td>1.000000</td>\n",
              "      <td>1.000000</td>\n",
              "      <td>1.000000</td>\n",
              "      <td>1.000000</td>\n",
              "      <td>1.000000</td>\n",
              "      <td>1.000000</td>\n",
              "      <td>1.000000</td>\n",
              "      <td>1.000000</td>\n",
              "      <td>1.000000</td>\n",
              "      <td>1.000000</td>\n",
              "      <td>...</td>\n",
              "      <td>1.000000</td>\n",
              "      <td>1.000000</td>\n",
              "      <td>1.000000</td>\n",
              "      <td>1.000000</td>\n",
              "      <td>1.000000</td>\n",
              "      <td>1.000000</td>\n",
              "      <td>1.000000</td>\n",
              "      <td>1.000000</td>\n",
              "      <td>1.000000</td>\n",
              "      <td>1.000000</td>\n",
              "    </tr>\n",
              "  </tbody>\n",
              "</table>\n",
              "<p>8 rows × 163 columns</p>\n",
              "</div>\n",
              "      <button class=\"colab-df-convert\" onclick=\"convertToInteractive('df-865df794-b28c-416f-93a3-af0fe95d09fe')\"\n",
              "              title=\"Convert this dataframe to an interactive table.\"\n",
              "              style=\"display:none;\">\n",
              "        \n",
              "  <svg xmlns=\"http://www.w3.org/2000/svg\" height=\"24px\"viewBox=\"0 0 24 24\"\n",
              "       width=\"24px\">\n",
              "    <path d=\"M0 0h24v24H0V0z\" fill=\"none\"/>\n",
              "    <path d=\"M18.56 5.44l.94 2.06.94-2.06 2.06-.94-2.06-.94-.94-2.06-.94 2.06-2.06.94zm-11 1L8.5 8.5l.94-2.06 2.06-.94-2.06-.94L8.5 2.5l-.94 2.06-2.06.94zm10 10l.94 2.06.94-2.06 2.06-.94-2.06-.94-.94-2.06-.94 2.06-2.06.94z\"/><path d=\"M17.41 7.96l-1.37-1.37c-.4-.4-.92-.59-1.43-.59-.52 0-1.04.2-1.43.59L10.3 9.45l-7.72 7.72c-.78.78-.78 2.05 0 2.83L4 21.41c.39.39.9.59 1.41.59.51 0 1.02-.2 1.41-.59l7.78-7.78 2.81-2.81c.8-.78.8-2.07 0-2.86zM5.41 20L4 18.59l7.72-7.72 1.47 1.35L5.41 20z\"/>\n",
              "  </svg>\n",
              "      </button>\n",
              "      \n",
              "  <style>\n",
              "    .colab-df-container {\n",
              "      display:flex;\n",
              "      flex-wrap:wrap;\n",
              "      gap: 12px;\n",
              "    }\n",
              "\n",
              "    .colab-df-convert {\n",
              "      background-color: #E8F0FE;\n",
              "      border: none;\n",
              "      border-radius: 50%;\n",
              "      cursor: pointer;\n",
              "      display: none;\n",
              "      fill: #1967D2;\n",
              "      height: 32px;\n",
              "      padding: 0 0 0 0;\n",
              "      width: 32px;\n",
              "    }\n",
              "\n",
              "    .colab-df-convert:hover {\n",
              "      background-color: #E2EBFA;\n",
              "      box-shadow: 0px 1px 2px rgba(60, 64, 67, 0.3), 0px 1px 3px 1px rgba(60, 64, 67, 0.15);\n",
              "      fill: #174EA6;\n",
              "    }\n",
              "\n",
              "    [theme=dark] .colab-df-convert {\n",
              "      background-color: #3B4455;\n",
              "      fill: #D2E3FC;\n",
              "    }\n",
              "\n",
              "    [theme=dark] .colab-df-convert:hover {\n",
              "      background-color: #434B5C;\n",
              "      box-shadow: 0px 1px 3px 1px rgba(0, 0, 0, 0.15);\n",
              "      filter: drop-shadow(0px 1px 2px rgba(0, 0, 0, 0.3));\n",
              "      fill: #FFFFFF;\n",
              "    }\n",
              "  </style>\n",
              "\n",
              "      <script>\n",
              "        const buttonEl =\n",
              "          document.querySelector('#df-865df794-b28c-416f-93a3-af0fe95d09fe button.colab-df-convert');\n",
              "        buttonEl.style.display =\n",
              "          google.colab.kernel.accessAllowed ? 'block' : 'none';\n",
              "\n",
              "        async function convertToInteractive(key) {\n",
              "          const element = document.querySelector('#df-865df794-b28c-416f-93a3-af0fe95d09fe');\n",
              "          const dataTable =\n",
              "            await google.colab.kernel.invokeFunction('convertToInteractive',\n",
              "                                                     [key], {});\n",
              "          if (!dataTable) return;\n",
              "\n",
              "          const docLinkHtml = 'Like what you see? Visit the ' +\n",
              "            '<a target=\"_blank\" href=https://colab.research.google.com/notebooks/data_table.ipynb>data table notebook</a>'\n",
              "            + ' to learn more about interactive tables.';\n",
              "          element.innerHTML = '';\n",
              "          dataTable['output_type'] = 'display_data';\n",
              "          await google.colab.output.renderOutput(dataTable, element);\n",
              "          const docLink = document.createElement('div');\n",
              "          docLink.innerHTML = docLinkHtml;\n",
              "          element.appendChild(docLink);\n",
              "        }\n",
              "      </script>\n",
              "    </div>\n",
              "  </div>\n",
              "  "
            ],
            "text/plain": [
              "             price         year      mileage        color      country  \\\n",
              "count  2499.000000  2499.000000  2499.000000  2499.000000  2499.000000   \n",
              "mean      0.221056     0.930091     0.051377     0.080115     0.002801   \n",
              "std       0.142710     0.073248     0.058654     0.110793     0.052862   \n",
              "min       0.000000     0.000000     0.000000     0.000000     0.000000   \n",
              "25%       0.120141     0.914894     0.021088     0.020833     0.000000   \n",
              "50%       0.199058     0.957447     0.034742     0.083333     0.000000   \n",
              "75%       0.301007     0.978723     0.062354     0.104167     0.000000   \n",
              "max       1.000000     1.000000     1.000000     1.000000     1.000000   \n",
              "\n",
              "       binary_price  clean vehicle  salvage insurance         1500  \\\n",
              "count   2499.000000    2499.000000        2499.000000  2499.000000   \n",
              "mean       0.049620       0.934774           0.065226     0.015606   \n",
              "std        0.217202       0.246974           0.246974     0.123971   \n",
              "min        0.000000       0.000000           0.000000     0.000000   \n",
              "25%        0.000000       1.000000           0.000000     0.000000   \n",
              "50%        0.000000       1.000000           0.000000     0.000000   \n",
              "75%        0.000000       1.000000           0.000000     0.000000   \n",
              "max        1.000000       1.000000           1.000000     1.000000   \n",
              "\n",
              "              2500  ...         land        lexus      lincoln     maserati  \\\n",
              "count  2499.000000  ...  2499.000000  2499.000000  2499.000000  2499.000000   \n",
              "mean      0.003201  ...     0.001601     0.000800     0.000800     0.000400   \n",
              "std       0.056501  ...     0.039984     0.028284     0.028284     0.020004   \n",
              "min       0.000000  ...     0.000000     0.000000     0.000000     0.000000   \n",
              "25%       0.000000  ...     0.000000     0.000000     0.000000     0.000000   \n",
              "50%       0.000000  ...     0.000000     0.000000     0.000000     0.000000   \n",
              "75%       0.000000  ...     0.000000     0.000000     0.000000     0.000000   \n",
              "max       1.000000  ...     1.000000     1.000000     1.000000     1.000000   \n",
              "\n",
              "             mazda  mercedes-benz       nissan    peterbilt          ram  \\\n",
              "count  2499.000000    2499.000000  2499.000000  2499.000000  2499.000000   \n",
              "mean      0.000800       0.004002     0.124850     0.001601     0.000400   \n",
              "std       0.028284       0.063144     0.330615     0.039984     0.020004   \n",
              "min       0.000000       0.000000     0.000000     0.000000     0.000000   \n",
              "25%       0.000000       0.000000     0.000000     0.000000     0.000000   \n",
              "50%       0.000000       0.000000     0.000000     0.000000     0.000000   \n",
              "75%       0.000000       0.000000     0.000000     0.000000     0.000000   \n",
              "max       1.000000       1.000000     1.000000     1.000000     1.000000   \n",
              "\n",
              "            toyota  \n",
              "count  2499.000000  \n",
              "mean      0.000400  \n",
              "std       0.020004  \n",
              "min       0.000000  \n",
              "25%       0.000000  \n",
              "50%       0.000000  \n",
              "75%       0.000000  \n",
              "max       1.000000  \n",
              "\n",
              "[8 rows x 163 columns]"
            ]
          },
          "execution_count": 25,
          "metadata": {},
          "output_type": "execute_result"
        }
      ],
      "source": [
        "data_norm = (data_new - data_new.min(axis=0)) / (data_new.max(axis=0) - data_new.min(axis=0))\n",
        "data_norm.describe()"
      ]
    },
    {
      "cell_type": "markdown",
      "id": "8c79718e",
      "metadata": {
        "id": "8c79718e"
      },
      "source": [
        "## 6. Отбор признаков\n",
        "Для предсказания стоимости автомобиля `'binary_price'` будем использовать все входные признаки кроме `'price'` и `'binary_price'`."
      ]
    },
    {
      "cell_type": "code",
      "execution_count": 26,
      "id": "4c30df5c",
      "metadata": {
        "colab": {
          "base_uri": "https://localhost:8080/"
        },
        "id": "4c30df5c",
        "outputId": "3fea82dd-4250-43a9-ec43-bdfc09db1844"
      },
      "outputs": [
        {
          "data": {
            "text/plain": [
              "Index(['price', 'year', 'mileage', 'color', 'country', 'binary_price',\n",
              "       'clean vehicle', 'salvage insurance', '1500', '2500',\n",
              "       ...\n",
              "       'land', 'lexus', 'lincoln', 'maserati', 'mazda', 'mercedes-benz',\n",
              "       'nissan', 'peterbilt', 'ram', 'toyota'],\n",
              "      dtype='object', length=163)"
            ]
          },
          "execution_count": 26,
          "metadata": {},
          "output_type": "execute_result"
        }
      ],
      "source": [
        "data_norm.columns"
      ]
    },
    {
      "cell_type": "code",
      "execution_count": 27,
      "id": "63b72af6",
      "metadata": {
        "id": "63b72af6"
      },
      "outputs": [],
      "source": [
        "X = data_norm.drop(['price', 'binary_price'], axis=1)\n",
        "y = data_norm['binary_price']"
      ]
    },
    {
      "cell_type": "code",
      "execution_count": 28,
      "id": "d2cf5f96",
      "metadata": {
        "id": "d2cf5f96"
      },
      "outputs": [],
      "source": [
        "from sklearn.neighbors import KNeighborsClassifier\n",
        "from sklearn import neighbors\n",
        "from sklearn.model_selection import train_test_split"
      ]
    },
    {
      "cell_type": "markdown",
      "id": "41f4feb6",
      "metadata": {
        "id": "41f4feb6"
      },
      "source": [
        "Разобьем данные на обучающую и тестовую выборки в пропорции 3:1 (75% - обучающая выборка, 25% - тестовая):"
      ]
    },
    {
      "cell_type": "code",
      "execution_count": 29,
      "id": "52769c4d",
      "metadata": {
        "colab": {
          "base_uri": "https://localhost:8080/"
        },
        "id": "52769c4d",
        "outputId": "06ea4206-8fd3-4a9b-a67c-7e9abdec5f95"
      },
      "outputs": [
        {
          "data": {
            "text/plain": [
              "(1874, 625)"
            ]
          },
          "execution_count": 29,
          "metadata": {},
          "output_type": "execute_result"
        }
      ],
      "source": [
        "X_train, X_test, y_train, y_test = train_test_split(X, y, test_size = 0.25, \n",
        "                                                    random_state = 42)\n",
        "model = neighbors.KNeighborsClassifier(n_neighbors = 3)\n",
        "model.fit(X_train, y_train)\n",
        "y_test_pred = model.predict(X_test)\n",
        "\n",
        "N_train, _ = X_train.shape\n",
        "N_test, _ = X_test.shape\n",
        "N_train, N_test"
      ]
    },
    {
      "cell_type": "markdown",
      "id": "69fa7035",
      "metadata": {
        "id": "69fa7035"
      },
      "source": [
        "## 7. Классификатор ближайших соседей kNN"
      ]
    },
    {
      "cell_type": "code",
      "execution_count": 30,
      "id": "01bac9df",
      "metadata": {
        "id": "01bac9df"
      },
      "outputs": [],
      "source": [
        "from sklearn import metrics"
      ]
    },
    {
      "cell_type": "code",
      "execution_count": 31,
      "id": "d83f2ed6",
      "metadata": {
        "colab": {
          "base_uri": "https://localhost:8080/"
        },
        "id": "d83f2ed6",
        "outputId": "2dc787ba-d458-40c5-de22-7e8ca3ae9490"
      },
      "outputs": [
        {
          "name": "stdout",
          "output_type": "stream",
          "text": [
            "0.0464\n",
            "0.0464\n"
          ]
        }
      ],
      "source": [
        "print(1 - metrics.accuracy_score(y_test, y_test_pred))\n",
        "print(np.mean(y_test != y_test_pred))"
      ]
    },
    {
      "cell_type": "code",
      "execution_count": 32,
      "id": "bc9ad657",
      "metadata": {
        "colab": {
          "base_uri": "https://localhost:8080/"
        },
        "id": "bc9ad657",
        "outputId": "a74a6500-7598-43a1-fc9e-47fe3dfd050e"
      },
      "outputs": [
        {
          "name": "stdout",
          "output_type": "stream",
          "text": [
            "0.0464\n",
            "0.0464\n"
          ]
        }
      ],
      "source": [
        "print(1 - metrics.accuracy_score(y_test, y_test_pred))\n",
        "print(np.mean(y_test != y_test_pred))"
      ]
    },
    {
      "cell_type": "code",
      "execution_count": 33,
      "id": "ae0bfc19",
      "metadata": {
        "id": "ae0bfc19"
      },
      "outputs": [],
      "source": [
        "k_range = range(1, 30)\n",
        "err_train = []\n",
        "err_test = []\n",
        "for k in k_range:\n",
        "    model = neighbors.KNeighborsClassifier(n_neighbors = k)\n",
        "    model.fit(X_train, y_train)\n",
        "    err_train.append(np.mean(model.predict(X_train) != y_train))\n",
        "    err_test.append(np.mean(model.predict(X_test) != y_test))"
      ]
    },
    {
      "cell_type": "code",
      "execution_count": 34,
      "id": "07cf20c6",
      "metadata": {
        "colab": {
          "base_uri": "https://localhost:8080/",
          "height": 0
        },
        "id": "07cf20c6",
        "outputId": "ba8dfdbd-bfe5-4988-d7ba-38f6120ab21f"
      },
      "outputs": [
        {
          "data": {
            "image/png": "[encoded data removed]",
            "text/plain": [
              "<Figure size 432x288 with 1 Axes>"
            ]
          },
          "metadata": {
            "needs_background": "light"
          },
          "output_type": "display_data"
        }
      ],
      "source": [
        "plt.plot(k_range, err_train, '.-r', label = 'Train error')\n",
        "plt.plot(k_range, err_test,  '.-b', label = 'Test error')    \n",
        "plt.legend(loc = 2)\n",
        "plt.xlim([30, 0])\n",
        "pass"
      ]
    },
    {
      "cell_type": "code",
      "execution_count": 35,
      "id": "c0544a70",
      "metadata": {
        "colab": {
          "base_uri": "https://localhost:8080/"
        },
        "id": "c0544a70",
        "outputId": "cd4fa20a-499e-4fd3-e83f-c546ce92c8c1"
      },
      "outputs": [
        {
          "name": "stdout",
          "output_type": "stream",
          "text": [
            "0.0432\n",
            "0.0368196371398079\n",
            "17\n"
          ]
        }
      ],
      "source": [
        "print(min(err_test))\n",
        "print(err_train[k_range[err_test.index(min(err_test))]])\n",
        "print(k_range[err_test.index(min(err_test))])\n"
      ]
    },
    {
      "cell_type": "markdown",
      "id": "7a89537c",
      "metadata": {
        "id": "7a89537c"
      },
      "source": [
        "Получено оптимально число ближайших соседей - 17 c минимальным значением ошибки на тестовой выборке и соответствующем значением ошибки на обучающей выборке. Ввиду ненатренерованности модели ошибка на обучающей выборке ниже, чем на тестовой. При увеличении количества соседей ошибка на обучающей выборке ухудшается, но незначительно улучшается ошибка на тестовой до определенного числа соседей."
      ]
    },
    {
      "cell_type": "markdown",
      "id": "669a1804",
      "metadata": {
        "id": "669a1804"
      },
      "source": [
        "## 8. Случайный лес"
      ]
    },
    {
      "cell_type": "code",
      "execution_count": 36,
      "id": "6a01207a",
      "metadata": {
        "colab": {
          "base_uri": "https://localhost:8080/"
        },
        "id": "6a01207a",
        "outputId": "f2059dc1-7a2c-49fc-d1e4-08e98dbca839"
      },
      "outputs": [
        {
          "name": "stdout",
          "output_type": "stream",
          "text": [
            "error_train : 0.0000000000000000, error_test: 0.0464000000000000 \n"
          ]
        }
      ],
      "source": [
        "from sklearn.ensemble import RandomForestClassifier\n",
        "rf = RandomForestClassifier()\n",
        "rf.fit(X_train, y_train)\n",
        "\n",
        "err_train = np.mean(y_train != rf.predict(X_train))\n",
        "err_test  = np.mean(y_test  != rf.predict(X_test))\n",
        "\n",
        "print(\"error_train : {:.16f}, error_test: {:.16f} \".format(err_train, err_test))"
      ]
    },
    {
      "cell_type": "markdown",
      "id": "8fe63a3e",
      "metadata": {
        "id": "8fe63a3e"
      },
      "source": [
        "Алгоритм случайного леса оказался близок по точности с алгоритмом k-ближайших соседей при оптимальных параметрах каждого из методов на тестовой выборке, на обучающей значительно точнее. У тренировочной выборки ошибка мала и близка к нулю."
      ]
    },
    {
      "cell_type": "markdown",
      "id": "193cc8d4",
      "metadata": {
        "id": "193cc8d4"
      },
      "source": [
        "## 9. Выводы\n",
        "В работе производился анализ данных о стоимости автомобилей и решение задачи классификации с помощью моделей, которые были натренированы методами k-ближайших соседей и случайного леса. В ходе работы проведены:\n",
        "1. Вычисление основных статистических характеристик и их анализ\n",
        "2. Нормализация количественных признаков (с помощью линейного преобразования к отрезку [0, 1])\n",
        "3. Разбиение данных на обучающую и тестовую выборки\n",
        "4. Выбор алгоритма классификации и проверка качества модели\n",
        "5. Сравнение 2 моделей, алгоритм случайного леса оказался лучше метода к-ближайших соседей"
      ]
    },
    {
      "cell_type": "markdown",
      "id": "40efX4agef0X",
      "metadata": {
        "id": "40efX4agef0X"
      },
      "source": [
        "## 10. Подбор гиперпараметров"
      ]
    },
    {
      "cell_type": "markdown",
      "id": "kx_jQgp7jx6v",
      "metadata": {
        "id": "kx_jQgp7jx6v"
      },
      "source": [
        "В связи c малым числом данных, оставим исходные количества данных обучающей и тестовой выборок. "
      ]
    },
    {
      "cell_type": "code",
      "execution_count": 37,
      "id": "A2OIgL8nepRx",
      "metadata": {
        "id": "A2OIgL8nepRx"
      },
      "outputs": [],
      "source": [
        "from sklearn.neural_network import MLPClassifier\n",
        "from sklearn.metrics import accuracy_score"
      ]
    },
    {
      "cell_type": "markdown",
      "id": "fwi4t2Kkkcof",
      "metadata": {
        "id": "fwi4t2Kkkcof"
      },
      "source": [
        "`Adam` довольно хорошо и стабильно работает с точки зрения как времени обучения, так и оценки проверки, следовательно, возьмём `Adam` в качестве solver. Для activation function -- `relu`. Подбёрем оптимальное число нейронов для однослойной сети из диапозона от 1 до 51."
      ]
    },
    {
      "cell_type": "code",
      "execution_count": 38,
      "id": "xAQ8xNnFepOc",
      "metadata": {
        "colab": {
          "base_uri": "https://localhost:8080/"
        },
        "id": "xAQ8xNnFepOc",
        "outputId": "bf5066e7-0e3d-444f-deb2-90cc9b4dbb0a"
      },
      "outputs": [
        {
          "name": "stdout",
          "output_type": "stream",
          "text": [
            "CPU times: user 2min 19s, sys: 1min 31s, total: 3min 50s\n",
            "Wall time: 2min 10s\n"
          ]
        }
      ],
      "source": [
        "%%time\n",
        "hidden_layer_size = range(1, 51)\n",
        "test_err = []\n",
        "train_err = []\n",
        "train_acc = []\n",
        "test_acc = []\n",
        "\n",
        "for size in hidden_layer_size:\n",
        "    model = MLPClassifier(hidden_layer_sizes=(size,), solver='adam', \n",
        "                          activation='relu', max_iter=1000, random_state=42)\n",
        "    model.fit(X_train, y_train)\n",
        "\n",
        "    y_train_pred = model.predict(X_train)\n",
        "    y_test_pred = model.predict(X_test)\n",
        "    \n",
        "    train_err.append(np.mean(y_train != y_train_pred))\n",
        "    test_err.append(np.mean(y_test != y_test_pred))\n",
        "    train_acc.append(accuracy_score(y_train, y_train_pred))\n",
        "    test_acc.append(accuracy_score(y_test, y_test_pred))"
      ]
    },
    {
      "cell_type": "markdown",
      "id": "HssLmBuS5KSr",
      "metadata": {
        "id": "HssLmBuS5KSr"
      },
      "source": [
        "Построим графики зависимости ошибки и accuracy на обучающей и тестовой выборках от количества нейронов."
      ]
    },
    {
      "cell_type": "code",
      "execution_count": 39,
      "id": "kQXSuBCoepLz",
      "metadata": {
        "colab": {
          "base_uri": "https://localhost:8080/",
          "height": 313
        },
        "id": "kQXSuBCoepLz",
        "outputId": "c054567d-c778-4476-c4d2-98e2bdc7cd4b"
      },
      "outputs": [
        {
          "data": {
            "text/plain": [
              "<matplotlib.legend.Legend at 0x7f0ec0bff3a0>"
            ]
          },
          "execution_count": 39,
          "metadata": {},
          "output_type": "execute_result"
        },
        {
          "data": {
            "image/png": "[encoded data removed]",
            "text/plain": [
              "<Figure size 432x288 with 1 Axes>"
            ]
          },
          "metadata": {
            "needs_background": "light"
          },
          "output_type": "display_data"
        }
      ],
      "source": [
        "plt.title('Error dependency on hidden_layer_size')\n",
        "plt.xlim([np.min(hidden_layer_size), np.max(hidden_layer_size)])\n",
        "plt.plot(hidden_layer_size, train_err, 'r-o', label = 'Train')\n",
        "plt.plot(hidden_layer_size, test_err, 'b-o', label = 'Test')\n",
        "plt.xlabel('Hidden_layer_size')\n",
        "plt.ylabel('Error')\n",
        "plt.legend()"
      ]
    },
    {
      "cell_type": "code",
      "execution_count": 40,
      "id": "OLvt_sMJepJD",
      "metadata": {
        "colab": {
          "base_uri": "https://localhost:8080/"
        },
        "id": "OLvt_sMJepJD",
        "outputId": "f3255341-6a8b-4289-93e7-8a7a39a898ce"
      },
      "outputs": [
        {
          "name": "stdout",
          "output_type": "stream",
          "text": [
            "Min train error: 0.027214514407684097, number of neurons: 40.\n",
            "Min test error: 0.0464, number of neurons: 40.\n"
          ]
        }
      ],
      "source": [
        "print(\"Min train error: {0}, number of neurons: {1}.\".format(np.min(train_err), hidden_layer_size[np.argmin(train_err)]))\n",
        "print(\"Min test error: {0}, number of neurons: {1}.\".format(np.min(test_err), hidden_layer_size[np.argmin(test_err)]))"
      ]
    },
    {
      "cell_type": "code",
      "execution_count": 41,
      "id": "f9rSpLCHepCs",
      "metadata": {
        "colab": {
          "base_uri": "https://localhost:8080/",
          "height": 313
        },
        "id": "f9rSpLCHepCs",
        "outputId": "fda1f3f9-2c56-41f1-eee6-7e6ed8fd87d4"
      },
      "outputs": [
        {
          "data": {
            "text/plain": [
              "<matplotlib.legend.Legend at 0x7f0ec0bdcc70>"
            ]
          },
          "execution_count": 41,
          "metadata": {},
          "output_type": "execute_result"
        },
        {
          "data": {
            "image/png": "[encoded data removed]",
            "text/plain": [
              "<Figure size 432x288 with 1 Axes>"
            ]
          },
          "metadata": {
            "needs_background": "light"
          },
          "output_type": "display_data"
        }
      ],
      "source": [
        "plt.title('Accuracy dependency on hidden_layer_size')\n",
        "plt.xlim([np.min(hidden_layer_size), np.max(hidden_layer_size)])\n",
        "plt.plot(hidden_layer_size, train_acc, 'r-o', label = 'Train')\n",
        "plt.plot(hidden_layer_size, test_acc, 'b-o', label = 'Test')\n",
        "plt.xlabel('Hidden_layer_size')\n",
        "plt.ylabel('Accuracy')\n",
        "plt.legend()"
      ]
    },
    {
      "cell_type": "code",
      "execution_count": 42,
      "id": "-SoWGE3oeouq",
      "metadata": {
        "colab": {
          "base_uri": "https://localhost:8080/"
        },
        "id": "-SoWGE3oeouq",
        "outputId": "f4db7a85-bf9e-434b-a562-c2ca93b80084"
      },
      "outputs": [
        {
          "name": "stdout",
          "output_type": "stream",
          "text": [
            "Max train accuracy: 0.9727854855923159, number of neurons: 40.\n",
            "Max test accuracy: 0.9536, number of neurons: 40.\n"
          ]
        }
      ],
      "source": [
        "print(\"Max train accuracy: {0}, number of neurons: {1}.\".format(np.max(train_acc), hidden_layer_size[np.argmax(train_acc)]))\n",
        "print(\"Max test accuracy: {0}, number of neurons: {1}.\".format(np.max(test_acc), hidden_layer_size[np.argmax(test_acc)]))"
      ]
    },
    {
      "cell_type": "markdown",
      "id": "vtKMenpyfOKX",
      "metadata": {
        "id": "vtKMenpyfOKX"
      },
      "source": [
        "Подберем число нейронов для двуслойной модели, но зададим меньшее разбиение для более быстрого обучения с теми же solver и activation function."
      ]
    },
    {
      "cell_type": "code",
      "execution_count": 43,
      "id": "fvuApj5HfOol",
      "metadata": {
        "colab": {
          "base_uri": "https://localhost:8080/"
        },
        "id": "fvuApj5HfOol",
        "outputId": "1bcfe6b6-ab85-46cf-d09c-d01aeb9ec3eb"
      },
      "outputs": [
        {
          "name": "stdout",
          "output_type": "stream",
          "text": [
            "CPU times: user 6min 57s, sys: 5min, total: 11min 58s\n",
            "Wall time: 6min 23s\n"
          ]
        }
      ],
      "source": [
        "%%time\n",
        "n = 10\n",
        "sizes = np.linspace(1, 50, n).astype(int)\n",
        "test_err = np.zeros((n, n))\n",
        "train_err = np.zeros((n, n))\n",
        "train_acc = np.zeros((n, n))\n",
        "test_acc = np.zeros((n, n))\n",
        "\n",
        "for i, size_1 in enumerate(sizes):\n",
        "    for j, size_2 in enumerate(sizes):\n",
        "        model = MLPClassifier(hidden_layer_sizes = (size_1, size_2, ), \n",
        "                              solver = 'adam', max_iter = 1000, \n",
        "                              activation = 'relu', random_state = 42)\n",
        "        model.fit(X_train, y_train)\n",
        "\n",
        "        y_train_pred = model.predict(X_train)\n",
        "        y_test_pred = model.predict(X_test)\n",
        "\n",
        "        train_err[i][j] = np.mean(y_train != y_train_pred)\n",
        "        test_err[i][j] = np.mean(y_test != y_test_pred)\n",
        "        train_acc[i][j] = accuracy_score(y_train, y_train_pred)\n",
        "        test_acc[i][j] = accuracy_score(y_test, y_test_pred)"
      ]
    },
    {
      "cell_type": "markdown",
      "id": "o05Y_Le58fDG",
      "metadata": {
        "id": "o05Y_Le58fDG"
      },
      "source": [
        "Найдём оптимальное количество нейронов на каждом слое относительно ошибки."
      ]
    },
    {
      "cell_type": "code",
      "execution_count": 44,
      "id": "_vCz1jMBfqUv",
      "metadata": {
        "colab": {
          "base_uri": "https://localhost:8080/"
        },
        "id": "_vCz1jMBfqUv",
        "outputId": "f771c5c3-faad-45ce-fa67-0e23550a9c85"
      },
      "outputs": [
        {
          "name": "stdout",
          "output_type": "stream",
          "text": [
            "Min train error:  0.021878335112059766\n",
            "Min test error:  0.0384\n",
            "Min train error index:  [20, 0]\n",
            "Min test error index:  [20, 35]\n"
          ]
        }
      ],
      "source": [
        "train_min_err_index = np.where(train_err == np.min(train_err))\n",
        "train_max_err_sizes = [train_min_err_index[0][0] * 5, train_min_err_index[1][0] * 5]\n",
        "test_min_err_index = np.where(test_err == np.min(test_err))\n",
        "test_max_err_sizes = [test_min_err_index[0][0] * 5, test_min_err_index[1][0] * 5]\n",
        "print('Min train error: ', np.min(train_err))\n",
        "print('Min test error: ', np.min(test_err))\n",
        "print('Min train error index: ', train_max_err_sizes)\n",
        "print('Min test error index: ', test_max_err_sizes)"
      ]
    },
    {
      "cell_type": "markdown",
      "id": "mDnXyIAq9XQB",
      "metadata": {
        "id": "mDnXyIAq9XQB"
      },
      "source": [
        "Ошибка у двуслойной модели ниже чем о однослойной, следовательно, выберем 2 как оптимальное число слоёв с найденным количеством нейронов."
      ]
    },
    {
      "cell_type": "code",
      "execution_count": 45,
      "id": "FqA_c3I4fvpH",
      "metadata": {
        "colab": {
          "base_uri": "https://localhost:8080/"
        },
        "id": "FqA_c3I4fvpH",
        "outputId": "7660c41e-9a54-4909-de5a-62ba85b6f3da"
      },
      "outputs": [
        {
          "name": "stdout",
          "output_type": "stream",
          "text": [
            "The optimal value of the number of neurons: 20, 35.\n"
          ]
        }
      ],
      "source": [
        "hidden_layer_optimal_size_1 = test_max_err_sizes[0]\n",
        "hidden_layer_optimal_size_2 = test_max_err_sizes[1]\n",
        "print('The optimal value of the number of neurons: {0}, {1}.'.format(hidden_layer_optimal_size_1, hidden_layer_optimal_size_2))"
      ]
    },
    {
      "cell_type": "markdown",
      "id": "dlqii5A-5GAn",
      "metadata": {
        "id": "dlqii5A-5GAn"
      },
      "source": [
        "Подберем `alpha` для найденного числа слоёв и нейронов с теми же solver и activation function`."
      ]
    },
    {
      "cell_type": "code",
      "execution_count": 46,
      "id": "oPa8d2ZSfxDu",
      "metadata": {
        "colab": {
          "base_uri": "https://localhost:8080/"
        },
        "id": "oPa8d2ZSfxDu",
        "outputId": "9de35a24-5da4-4eea-a98e-d07a74ce2d93"
      },
      "outputs": [
        {
          "name": "stdout",
          "output_type": "stream",
          "text": [
            "CPU times: user 1min 41s, sys: 1min 18s, total: 2min 59s\n",
            "Wall time: 1min 35s\n"
          ]
        }
      ],
      "source": [
        "%%time\n",
        "alpha_arr = np.logspace(-2, 2, 30)\n",
        "test_err = []\n",
        "train_err = []\n",
        "train_acc = []\n",
        "test_acc = []\n",
        "\n",
        "for alpha in alpha_arr:\n",
        "    mlp_model = MLPClassifier(alpha=alpha, \n",
        "                              hidden_layer_sizes=(hidden_layer_optimal_size_1, \n",
        "                                                  hidden_layer_optimal_size_2), \n",
        "                              solver='adam', activation='relu', \n",
        "                              max_iter=1000, random_state=42)\n",
        "    mlp_model.fit(X_train, y_train)\n",
        "\n",
        "    y_train_pred = mlp_model.predict(X_train)\n",
        "    y_test_pred = mlp_model.predict(X_test)\n",
        "\n",
        "    train_err.append(np.mean(y_train != y_train_pred))\n",
        "    test_err.append(np.mean(y_test != y_test_pred))\n",
        "    train_acc.append(accuracy_score(y_train, y_train_pred))\n",
        "    test_acc.append(accuracy_score(y_test, y_test_pred))"
      ]
    },
    {
      "cell_type": "markdown",
      "id": "_Bxe4nSS5GnC",
      "metadata": {
        "id": "_Bxe4nSS5GnC"
      },
      "source": [
        "Построим графиики ошибки и точности."
      ]
    },
    {
      "cell_type": "code",
      "execution_count": 47,
      "id": "d-fX1EWKfz01",
      "metadata": {
        "colab": {
          "base_uri": "https://localhost:8080/",
          "height": 316
        },
        "id": "d-fX1EWKfz01",
        "outputId": "69cb6baa-c6e3-4c5b-bb2d-9829f486b9fa"
      },
      "outputs": [
        {
          "data": {
            "text/plain": [
              "<matplotlib.legend.Legend at 0x7f0ec0b66460>"
            ]
          },
          "execution_count": 47,
          "metadata": {},
          "output_type": "execute_result"
        },
        {
          "data": {
            "image/png": "[encoded data removed]",
            "text/plain": [
              "<Figure size 432x288 with 1 Axes>"
            ]
          },
          "metadata": {
            "needs_background": "light"
          },
          "output_type": "display_data"
        }
      ],
      "source": [
        "plt.title('Error depending on alpha')\n",
        "plt.xlim([np.min(alpha_arr), np.max(alpha_arr)])\n",
        "plt.semilogx(alpha_arr, train_err, 'r-o', label = 'Train')\n",
        "plt.semilogx(alpha_arr, test_err, 'b-o', label = 'Test')\n",
        "plt.xlabel('Alpha')\n",
        "plt.ylabel('Error')\n",
        "plt.legend()"
      ]
    },
    {
      "cell_type": "code",
      "execution_count": 48,
      "id": "mj5XLmT3f4eI",
      "metadata": {
        "colab": {
          "base_uri": "https://localhost:8080/",
          "height": 316
        },
        "id": "mj5XLmT3f4eI",
        "outputId": "1fd02583-3fb1-43f9-8cc7-64742be905cf"
      },
      "outputs": [
        {
          "data": {
            "text/plain": [
              "<matplotlib.legend.Legend at 0x7f0ec0cd3be0>"
            ]
          },
          "execution_count": 48,
          "metadata": {},
          "output_type": "execute_result"
        },
        {
          "data": {
            "image/png": "[encoded data removed]",
            "text/plain": [
              "<Figure size 432x288 with 1 Axes>"
            ]
          },
          "metadata": {
            "needs_background": "light"
          },
          "output_type": "display_data"
        }
      ],
      "source": [
        "plt.title('Accuracy depending on alpha')\n",
        "plt.xlim([np.min(alpha_arr), np.max(alpha_arr)])\n",
        "plt.semilogx(alpha_arr, train_acc, 'r-o', label = 'Train')\n",
        "plt.semilogx(alpha_arr, test_acc, 'b-o', label = 'Test')\n",
        "plt.xlabel('Alpha')\n",
        "plt.ylabel('Accuracy')\n",
        "plt.legend()"
      ]
    },
    {
      "cell_type": "code",
      "execution_count": 49,
      "id": "BXr9VzgEf4bJ",
      "metadata": {
        "colab": {
          "base_uri": "https://localhost:8080/"
        },
        "id": "BXr9VzgEf4bJ",
        "outputId": "c54f5f8d-29f0-4930-e02d-6ac5420a9aba"
      },
      "outputs": [
        {
          "name": "stdout",
          "output_type": "stream",
          "text": [
            "Min train error:  0.028281750266808965\n",
            "Min test error:  0.0464\n"
          ]
        }
      ],
      "source": [
        "min_train_err = np.min(train_err)\n",
        "min_test_err = np.min(test_err)\n",
        "print('Min train error: ', min_train_err)\n",
        "print('Min test error: ', min_test_err)"
      ]
    },
    {
      "cell_type": "markdown",
      "id": "RlKwgMzD97aS",
      "metadata": {
        "id": "RlKwgMzD97aS"
      },
      "source": [
        "Найдём оптимальное значение `alpha`."
      ]
    },
    {
      "cell_type": "code",
      "execution_count": 50,
      "id": "xpSSTp7qtQzY",
      "metadata": {
        "colab": {
          "base_uri": "https://localhost:8080/"
        },
        "id": "xpSSTp7qtQzY",
        "outputId": "3b184ed9-1182-4499-d896-769c47e2c80b"
      },
      "outputs": [
        {
          "name": "stdout",
          "output_type": "stream",
          "text": [
            "0.01\n",
            "Optimal alpha:  0.01\n"
          ]
        }
      ],
      "source": [
        "alpha_opt = alpha_arr[test_err == min_test_err]\n",
        "alpha_opt = alpha_opt[0]\n",
        "print(alpha_opt)\n",
        "print(\"Optimal alpha: \", alpha_opt)"
      ]
    },
    {
      "cell_type": "markdown",
      "id": "u_EQjORT5D7a",
      "metadata": {
        "id": "u_EQjORT5D7a"
      },
      "source": [
        "Обучим модель при всех найденных оптимальных значениях гиперпараметров."
      ]
    },
    {
      "cell_type": "code",
      "execution_count": 51,
      "id": "8bsgVmLxtQwe",
      "metadata": {
        "colab": {
          "base_uri": "https://localhost:8080/"
        },
        "id": "8bsgVmLxtQwe",
        "outputId": "b18f5ade-802c-47f7-c743-883b7689abea"
      },
      "outputs": [
        {
          "data": {
            "text/plain": [
              "MLPClassifier(alpha=0.01, hidden_layer_sizes=(20, 35), random_state=42)"
            ]
          },
          "execution_count": 51,
          "metadata": {},
          "output_type": "execute_result"
        }
      ],
      "source": [
        "mlp_model = MLPClassifier(alpha=alpha_opt, \n",
        "                          hidden_layer_sizes=(hidden_layer_optimal_size_1, \n",
        "                                              hidden_layer_optimal_size_2),\n",
        "                          solver='adam', activation='relu', random_state=42)\n",
        "mlp_model.fit(X_train, y_train)"
      ]
    },
    {
      "cell_type": "markdown",
      "id": "LOq1Im1M5CvQ",
      "metadata": {
        "id": "LOq1Im1M5CvQ"
      },
      "source": [
        "Построим матрицу рассогласования для предсказанных значений."
      ]
    },
    {
      "cell_type": "code",
      "execution_count": 52,
      "id": "rBZaYipvtUkT",
      "metadata": {
        "colab": {
          "base_uri": "https://localhost:8080/",
          "height": 279
        },
        "id": "rBZaYipvtUkT",
        "outputId": "da73c319-deaa-41ec-94f6-7950af5d8afc"
      },
      "outputs": [
        {
          "data": {
            "image/png": "[encoded data removed]",
            "text/plain": [
              "<Figure size 432x288 with 2 Axes>"
            ]
          },
          "metadata": {
            "needs_background": "light"
          },
          "output_type": "display_data"
        }
      ],
      "source": [
        "from sklearn.metrics import confusion_matrix, ConfusionMatrixDisplay\n",
        "\n",
        "\n",
        "predictions = mlp_model.predict(X_test)\n",
        "cm = confusion_matrix(y_test, predictions, labels=mlp_model.classes_)\n",
        "disp = ConfusionMatrixDisplay(confusion_matrix=cm, \n",
        "                              display_labels=mlp_model.classes_)\n",
        "disp.plot()\n",
        "plt.show()"
      ]
    },
    {
      "cell_type": "markdown",
      "id": "wBI7zD5A5B1V",
      "metadata": {
        "id": "wBI7zD5A5B1V"
      },
      "source": [
        "Выводы\n",
        "\n",
        "Графики `train` и `test` схожи, что говорит об одинаковом распределении тренировочных и тестовых данных.\n",
        "Наблюдается недообучение. Оптимальное число нейронов в однослойной модели: 40 с минимальной ошибкой $-$ 0.0464. При двуслойной модели минимальная ошибка на тесте составляет 0.0384 при количестве нейронов: 20, 35. Возьмём два слоя сети в качетсве оптимального числа слоёв.\n",
        "\n",
        "С ростом коэффициента регуляризации растёт ошибка и снижается точность. Также наблюдается недообучения. При `alpha` > $\\sqrt{10}$ начинается рост ошибки и снижение точности, то есть с ростом `alpha` веса модели уменьшаются. Это объяснимо из матрицы рассогласования: модель на обучающей выборке научилась хорошо предсказывать истинные значения, принадлежащие классу 0, но плохо предсказывает истинные значения, принадлежащие классу 1, из-за несбалансированности классов (значительно больше элементов принадлежащих первому классу). "
      ]
    }
  ],
  "metadata": {
    "accelerator": "TPU",
    "colab": {
      "provenance": []
    },
    "gpuClass": "standard",
    "kernelspec": {
      "display_name": "Python 3 (ipykernel)",
      "language": "python",
      "name": "python3"
    },
    "language_info": {
      "codemirror_mode": {
        "name": "ipython",
        "version": 3
      },
      "file_extension": ".py",
      "mimetype": "text/x-python",
      "name": "python",
      "nbconvert_exporter": "python",
      "pygments_lexer": "ipython3",
      "version": "3.9.12"
    }
  },
  "nbformat": 4,
  "nbformat_minor": 5
}
